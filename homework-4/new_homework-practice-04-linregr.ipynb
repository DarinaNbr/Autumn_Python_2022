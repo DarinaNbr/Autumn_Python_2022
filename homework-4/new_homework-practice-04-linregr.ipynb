{
 "cells": [
  {
   "cell_type": "markdown",
   "metadata": {},
   "source": [
    "# Домашнее задание 4 - предобработка признаков, pandas\n",
    "\n",
    "**Выполнила:** Набережных Д.Д.\n",
    "\n",
    "**Группа:** НПМбд-01-19\n",
    "\n",
    "Дата выдачи: 28.09.2022\n",
    "\n",
    "Срок сдачи: 09.10.2022 23:59MSK\n",
    "\n",
    "### О задании\n",
    "\n",
    "Практическое задание 1 посвящено изучению основных библиотек для анализа данных, а также линейных моделей и методов их обучения. Вы научитесь:\n",
    " * применять библиотеки NumPy и Pandas для осуществления желаемых преобразований;\n",
    " * подготавливать данные для обучения линейных моделей;\n",
    " * обучать линейную, Lasso и Ridge-регрессии при помощи модуля scikit-learn;\n",
    " * реализовывать обычный и стохастический градиентные спуски;\n",
    " * обучать линейную регрессию для произвольного функционала качества.\n",
    " \n",
    "\n",
    "### Оценивание и штрафы\n",
    "\n",
    "Каждая из задач имеет определенную «стоимость» (указана в скобках около задачи). Максимально допустимая оценка за работу — 10 баллов. Кроме того, некоторые из заданий являются опциональными (необязательными), однако за их выполнение можно получить дополнительные баллы, которые позднее будут учитываться при проставлении оценок автоматом по курсу.\n",
    "\n",
    "Сдавать задание после указанного срока сдачи нельзя. При выставлении неполного балла за задание в связи с наличием ошибок на усмотрение проверяющего предусмотрена возможность исправить работу на указанных в ответном письме условиях.\n",
    "\n",
    "Задание выполняется самостоятельно. «Похожие» решения считаются плагиатом и все задействованные студенты (в том числе те, у кого списали) не могут получить за него больше 0 баллов (подробнее о плагиате см. на странице курса). Если вы нашли решение какого-то из заданий (или его часть) в открытом источнике, необходимо указать ссылку на этот источник в отдельном блоке в конце Вашей работы (скорее всего вы будете не единственным, кто это нашел, поэтому чтобы исключить подозрение в плагиате, необходима ссылка на источник). \n",
    "\n",
    "Неэффективная реализация кода может негативно отразиться на оценке.\n",
    "\n",
    "\n",
    "### Формат сдачи\n",
    "Для сдачи задания переименуйте получившийся файл \\*.ipynb в соответствии со следующим форматом: *HW4_Username.ipynb*, где *Username* — Ваша фамилия и инициалы на латинице (например, *HW4_IvanovII.ipynb*). Необходимо выложить файл с решением в свой репозиторий github."
   ]
  },
  {
   "cell_type": "markdown",
   "metadata": {},
   "source": [
    "## Библиотеки для анализа данных\n",
    "\n",
    "### NumPy\n",
    "\n",
    "Во всех заданиях данного раздела запрещено использовать циклы  и list comprehensions. Под вектором и матрицей в данных заданиях понимается одномерный и двумерный numpy.array соответственно."
   ]
  },
  {
   "cell_type": "code",
   "execution_count": 1,
   "metadata": {},
   "outputs": [],
   "source": [
    "import numpy as np"
   ]
  },
  {
   "cell_type": "markdown",
   "metadata": {},
   "source": [
    "**1. (0.2 балла)** Реализуйте функцию, возвращающую максимальный элемент в векторе x среди элементов, перед которыми стоит нулевой. Для x = np.array([6, 2, 0, 3, 0, 0, 5, 7, 0]) ответом является 5. Если нулевых элементов нет, функция должна возвращать None.\n"
   ]
  },
  {
   "cell_type": "code",
   "execution_count": 2,
   "metadata": {},
   "outputs": [
    {
     "name": "stdout",
     "output_type": "stream",
     "text": [
      "Ответ: 10\n"
     ]
    }
   ],
   "source": [
    "def max_element(arr):\n",
    "    max = np.amin(arr)\n",
    "    count = 0\n",
    "    for i in range(1, len(arr)):\n",
    "        if arr[i-1] == 0 and max <= arr[i]:\n",
    "            max = arr[i]\n",
    "            count += 1\n",
    "    if count == 0:\n",
    "        return None\n",
    "    else:\n",
    "        return max\n",
    "    \n",
    "x = np.array([6, 2, 0, 10, 0, 0, 8, 7, 0])\n",
    "print('Ответ:', max_element(x))    "
   ]
  },
  {
   "cell_type": "markdown",
   "metadata": {},
   "source": [
    "**2. (0.2 балла)** Реализуйте функцию, принимающую на вход матрицу и некоторое число и возвращающую ближайший к числу элемент матрицы. Например: для X = np.arange(0,10).reshape((2, 5)) и v = 3.6 ответом будет 4."
   ]
  },
  {
   "cell_type": "code",
   "execution_count": 3,
   "metadata": {},
   "outputs": [
    {
     "name": "stdout",
     "output_type": "stream",
     "text": [
      "Ответ: 4\n"
     ]
    }
   ],
   "source": [
    "def nearest_value(X, v):\n",
    "    return np.argmin(np.abs(X-v))\n",
    "\n",
    "X = np.arange(0,10).reshape((2, 5)) \n",
    "v = 3.6\n",
    "print('Ответ:', nearest_value(X, v))"
   ]
  },
  {
   "cell_type": "markdown",
   "metadata": {},
   "source": [
    "**3. (0.2 балла)** Реализуйте функцию scale(X), которая принимает на вход матрицу и масштабирует каждый ее столбец (вычитает выборочное среднее и делит на стандартное отклонение). Убедитесь, что в функции не будет происходить деления на ноль. Протестируйте на случайной матрице (для её генерации можно использовать, например, функцию [numpy.random.randint](http://docs.scipy.org/doc/numpy/reference/generated/numpy.random.randint.html))."
   ]
  },
  {
   "cell_type": "code",
   "execution_count": 4,
   "metadata": {},
   "outputs": [
    {
     "data": {
      "text/plain": [
       "array([[ 1.72309958, -1.36001851, -0.40089186,  0.9570203 , -0.6634888 ],\n",
       "       [-0.07179582,  0.70957488,  1.937644  , -0.06835859, -0.6634888 ],\n",
       "       [ 0.28718326,  1.00523107, -0.06681531, -0.06835859,  1.91674543],\n",
       "       [-1.14873305,  0.70957488, -0.73496842,  0.9570203 , -0.6634888 ],\n",
       "       [-0.78975397, -1.06436231, -0.73496842, -1.77732341,  0.07372098]])"
      ]
     },
     "execution_count": 4,
     "metadata": {},
     "output_type": "execute_result"
    }
   ],
   "source": [
    "def scale(X):\n",
    "    stand = X.std(axis=0)\n",
    "    if np.count_nonzero(stand) != len(stand):\n",
    "        return 'Деление на ноль'\n",
    "    else:\n",
    "        X = X - X.mean(axis=0)\n",
    "        X = X / stand\n",
    "    return X\n",
    "\n",
    "X = np.random.randint(1, 10, size=(5,5))\n",
    "scale(X)"
   ]
  },
  {
   "cell_type": "markdown",
   "metadata": {},
   "source": [
    "**4. (0.2 балла)** Реализуйте функцию, которая для заданной матрицы находит:\n",
    " - определитель\n",
    " - след\n",
    " - наименьший и наибольший элементы\n",
    " - норму Фробениуса\n",
    " - собственные числа\n",
    " - обратную матрицу\n",
    "\n",
    "Для тестирования сгенерируйте матрицу с элементами из нормального распределения $\\mathcal{N}$(10,1)"
   ]
  },
  {
   "cell_type": "code",
   "execution_count": 5,
   "metadata": {},
   "outputs": [
    {
     "name": "stdout",
     "output_type": "stream",
     "text": [
      "Определитель:  -38.80157582\n",
      "След:  46.53851602\n",
      "Наименьший элемент:  7.75837605\n",
      "Наибольший элемент:  12.17047161\n",
      "Норма Фробениуса: 49.64770480858287\n",
      "Собственные числа:  [49.38595242+0.j         -2.28907821+0.j          0.15725911+0.j\n",
      " -0.35780865+1.43336999j -0.35780865-1.43336999j]\n",
      "Обратная матрица:\n",
      " [[ 3.936395   -1.78129417 -1.22951605 -2.01518962  1.15238372]\n",
      " [-1.29281401  0.42130759  0.32686274  0.68939803 -0.13480925]\n",
      " [ 3.04143587 -0.88845137 -1.3475144  -1.54026902  0.79539507]\n",
      " [-6.08952224  3.08874469  2.47743046  2.4439337  -1.98369076]\n",
      " [ 0.27595795 -0.74907972 -0.15569163  0.49778122  0.16032454]]\n"
     ]
    }
   ],
   "source": [
    "def get_stats(X):\n",
    "    print('Определитель: ', np.linalg.det(X).round(8))\n",
    "    print('След: ', np.trace(X).round(8))\n",
    "    print('Наименьший элемент: ', np.min(X).round(8))\n",
    "    print('Наибольший элемент: ', np.max(X).round(8))\n",
    "    print('Норма Фробениуса:', np.linalg.norm(X, ord='fro'))\n",
    "    print('Собственные числа: ', np.linalg.eigvals(X))\n",
    "    print('Обратная матрица:\\n ', np.linalg.inv(X),sep='')\n",
    "    \n",
    "X = np.random.normal(10, 1, (5, 5))\n",
    "get_stats(X)"
   ]
  },
  {
   "cell_type": "markdown",
   "metadata": {},
   "source": [
    "**5. (0.2 балла)** Повторите 100 раз следующий эксперимент: сгенерируйте две матрицы размера 10×10 из стандартного нормального распределения, перемножьте их (как матрицы) и найдите максимальный элемент. Какое среднее значение по экспериментам у максимальных элементов? 95-процентная квантиль?"
   ]
  },
  {
   "cell_type": "code",
   "execution_count": 6,
   "metadata": {},
   "outputs": [
    {
     "name": "stdout",
     "output_type": "stream",
     "text": [
      "Среднее значение у максимальных элементов: 8.406199689884412\n",
      "95-процентная квантиль: 11.748306000801707\n"
     ]
    }
   ],
   "source": [
    "values = []\n",
    "\n",
    "for exp_num in range(100):\n",
    "    A = np.random.randn(10, 10)\n",
    "    B = np.random.randn(10, 10)\n",
    "    values.append(np.max(A.dot(B)))\n",
    "    \n",
    "print(\"Среднее значение у максимальных элементов:\", np.mean(values))\n",
    "print(\"95-процентная квантиль:\", np.quantile(values, 0.95))"
   ]
  },
  {
   "cell_type": "markdown",
   "metadata": {},
   "source": [
    "### Pandas\n",
    "\n",
    "![](https://metrouk2.files.wordpress.com/2015/10/panda.jpg)\n",
    "\n",
    "#### Ответьте на вопросы о данных по авиарейсам в США за январь-апрель 2008 года.\n",
    "\n",
    "[Данные](https://www.dropbox.com/s/dvfitn93obn0rql/2008.csv?dl=0) и их [описание](http://stat-computing.org/dataexpo/2009/the-data.html)"
   ]
  },
  {
   "cell_type": "markdown",
   "metadata": {},
   "source": [
    "Airline on-time performance\n",
    "\n",
    "Have you ever been stuck in an airport because your flight was delayed or cancelled and wondered if you could have predicted it if you'd had more data? This is your chance to find out.\n",
    "\n",
    "The data\n",
    "The data set is available for download here.\n",
    "The data consists of flight arrival and departure details for all commercial flights within the USA, from October 1987 to April 2008. This is a large dataset: there are nearly 120 million records in total, and takes up 1.6 gigabytes of space compressed and 12 gigabytes when uncompressed.\n",
    "\n",
    "Understanding and preparing the data\n",
    "In order to answer above questions, we are going to analyze the provided dataset, containing up to 1936758 ### different internal flights in the US for 2008 and their causes for delay, diversion and cancellation\n",
    "\n",
    "The data comes from the U.S. Department of Transportation’s (DOT) Bureau of Transportation Statistics (BTS). Meta data explanations\n",
    "\n",
    "This dataset is composed by the following variables:\n",
    "\n",
    "**Year** 2008 **Month** 1-12 **DayofMonth** 1-31 **DayOfWeek** 1 (Monday) - 7 (Sunday)  \n",
    "**DepTime** actual departure time (local, hhmm)  \n",
    "**CRSDepTime** scheduled departure time (local, hhmm)  \n",
    "**ArrTime** actual arrival time (local, hhmm)  \n",
    "**CRSArrTime** scheduled arrival time (local, hhmm)  \n",
    "**UniqueCarrier** unique carrier code  \n",
    "**FlightNum** flight number  \n",
    "**TailNum** plane tail number: aircraft registration, unique aircraft identifier  \n",
    "**ActualElapsedTime** in minutes  \n",
    "**CRSElapsedTime** in minutes  \n",
    "**AirTime** in minutes  \n",
    "**ArrDelay** arrival delay, in minutes: A flight is counted as “on time” if it operated less than 15 minutes later the scheduled time shown in the carriers’ Computerized Reservations Systems (CRS).  \n",
    "**DepDelay** departure delay, in minutes  \n",
    "**Origin** origin IATA airport code  \n",
    "**Dest** destination IATA airport code  \n",
    "**Distance** in miles  \n",
    "**TaxiIn** taxi in time, in minutes  \n",
    "**TaxiOut** taxi out time in minutes  \n",
    "**Cancelled** *was the flight cancelled  \n",
    "**CancellationCode** reason for cancellation (A = carrier, B = weather, C = NAS, D = security)  \n",
    "**Diverted** 1 = yes, 0 = no  \n",
    "**CarrierDelay** in minutes: Carrier delay is within the control of the air carrier. Examples of occurrences that may determine carrier delay are: aircraft cleaning, aircraft damage, awaiting the arrival of connecting passengers or crew, baggage, bird strike, cargo loading, catering, computer, outage-carrier equipment, crew legality (pilot or attendant rest), damage by hazardous goods, engineering inspection, fueling, handling disabled passengers, late crew, lavatory servicing, maintenance, oversales, potable water servicing, removal of unruly passenger, slow boarding or seating, stowing carry-on baggage, weight and balance delays.  \n",
    "**WeatherDelay** in minutes: Weather delay is caused by extreme or hazardous weather conditions that are forecasted or manifest themselves on point of departure, enroute, or on point of arrival.  \n",
    "**NASDelay** in minutes: Delay that is within the control of the National Airspace System (NAS) may include: non-extreme weather conditions, airport operations, heavy traffic volume, air traffic control, etc.  \n",
    "**SecurityDelay** in minutes: Security delay is caused by evacuation of a terminal or concourse, re-boarding of aircraft because of security breach, inoperative screening equipment and/or long lines in excess of 29 minutes at screening areas.  \n",
    "**LateAircraftDelay** in minutes: Arrival delay at an airport due to the late arrival of the same aircraft at a previous airport. The ripple effect of an earlier delay at downstream airports is referred to as delay propagation."
   ]
  },
  {
   "cell_type": "code",
   "execution_count": 7,
   "metadata": {},
   "outputs": [],
   "source": [
    "import pandas as pd\n",
    "%matplotlib inline"
   ]
  },
  {
   "cell_type": "code",
   "execution_count": 8,
   "metadata": {},
   "outputs": [
    {
     "data": {
      "text/html": [
       "<div>\n",
       "<style scoped>\n",
       "    .dataframe tbody tr th:only-of-type {\n",
       "        vertical-align: middle;\n",
       "    }\n",
       "\n",
       "    .dataframe tbody tr th {\n",
       "        vertical-align: top;\n",
       "    }\n",
       "\n",
       "    .dataframe thead th {\n",
       "        text-align: right;\n",
       "    }\n",
       "</style>\n",
       "<table border=\"1\" class=\"dataframe\">\n",
       "  <thead>\n",
       "    <tr style=\"text-align: right;\">\n",
       "      <th></th>\n",
       "      <th>Year</th>\n",
       "      <th>Month</th>\n",
       "      <th>DayofMonth</th>\n",
       "      <th>DayOfWeek</th>\n",
       "      <th>DepTime</th>\n",
       "      <th>CRSDepTime</th>\n",
       "      <th>ArrTime</th>\n",
       "      <th>CRSArrTime</th>\n",
       "      <th>UniqueCarrier</th>\n",
       "      <th>FlightNum</th>\n",
       "      <th>...</th>\n",
       "      <th>TaxiIn</th>\n",
       "      <th>TaxiOut</th>\n",
       "      <th>Cancelled</th>\n",
       "      <th>CancellationCode</th>\n",
       "      <th>Diverted</th>\n",
       "      <th>CarrierDelay</th>\n",
       "      <th>WeatherDelay</th>\n",
       "      <th>NASDelay</th>\n",
       "      <th>SecurityDelay</th>\n",
       "      <th>LateAircraftDelay</th>\n",
       "    </tr>\n",
       "  </thead>\n",
       "  <tbody>\n",
       "    <tr>\n",
       "      <th>0</th>\n",
       "      <td>2008</td>\n",
       "      <td>6</td>\n",
       "      <td>18</td>\n",
       "      <td>3</td>\n",
       "      <td>2111.0</td>\n",
       "      <td>2055</td>\n",
       "      <td>2308.0</td>\n",
       "      <td>2300</td>\n",
       "      <td>WN</td>\n",
       "      <td>242</td>\n",
       "      <td>...</td>\n",
       "      <td>3.0</td>\n",
       "      <td>8.0</td>\n",
       "      <td>0</td>\n",
       "      <td>NaN</td>\n",
       "      <td>0</td>\n",
       "      <td>NaN</td>\n",
       "      <td>NaN</td>\n",
       "      <td>NaN</td>\n",
       "      <td>NaN</td>\n",
       "      <td>NaN</td>\n",
       "    </tr>\n",
       "    <tr>\n",
       "      <th>1</th>\n",
       "      <td>2008</td>\n",
       "      <td>6</td>\n",
       "      <td>4</td>\n",
       "      <td>3</td>\n",
       "      <td>1426.0</td>\n",
       "      <td>1410</td>\n",
       "      <td>1730.0</td>\n",
       "      <td>1728</td>\n",
       "      <td>XE</td>\n",
       "      <td>2380</td>\n",
       "      <td>...</td>\n",
       "      <td>4.0</td>\n",
       "      <td>12.0</td>\n",
       "      <td>0</td>\n",
       "      <td>NaN</td>\n",
       "      <td>0</td>\n",
       "      <td>NaN</td>\n",
       "      <td>NaN</td>\n",
       "      <td>NaN</td>\n",
       "      <td>NaN</td>\n",
       "      <td>NaN</td>\n",
       "    </tr>\n",
       "    <tr>\n",
       "      <th>2</th>\n",
       "      <td>2008</td>\n",
       "      <td>8</td>\n",
       "      <td>3</td>\n",
       "      <td>7</td>\n",
       "      <td>1143.0</td>\n",
       "      <td>1145</td>\n",
       "      <td>1501.0</td>\n",
       "      <td>1520</td>\n",
       "      <td>WN</td>\n",
       "      <td>1769</td>\n",
       "      <td>...</td>\n",
       "      <td>4.0</td>\n",
       "      <td>9.0</td>\n",
       "      <td>0</td>\n",
       "      <td>NaN</td>\n",
       "      <td>0</td>\n",
       "      <td>NaN</td>\n",
       "      <td>NaN</td>\n",
       "      <td>NaN</td>\n",
       "      <td>NaN</td>\n",
       "      <td>NaN</td>\n",
       "    </tr>\n",
       "    <tr>\n",
       "      <th>3</th>\n",
       "      <td>2008</td>\n",
       "      <td>1</td>\n",
       "      <td>23</td>\n",
       "      <td>3</td>\n",
       "      <td>1141.0</td>\n",
       "      <td>1144</td>\n",
       "      <td>1323.0</td>\n",
       "      <td>1335</td>\n",
       "      <td>OO</td>\n",
       "      <td>3802</td>\n",
       "      <td>...</td>\n",
       "      <td>4.0</td>\n",
       "      <td>19.0</td>\n",
       "      <td>0</td>\n",
       "      <td>NaN</td>\n",
       "      <td>0</td>\n",
       "      <td>NaN</td>\n",
       "      <td>NaN</td>\n",
       "      <td>NaN</td>\n",
       "      <td>NaN</td>\n",
       "      <td>NaN</td>\n",
       "    </tr>\n",
       "    <tr>\n",
       "      <th>4</th>\n",
       "      <td>2008</td>\n",
       "      <td>5</td>\n",
       "      <td>4</td>\n",
       "      <td>7</td>\n",
       "      <td>815.0</td>\n",
       "      <td>820</td>\n",
       "      <td>1243.0</td>\n",
       "      <td>1300</td>\n",
       "      <td>WN</td>\n",
       "      <td>399</td>\n",
       "      <td>...</td>\n",
       "      <td>4.0</td>\n",
       "      <td>8.0</td>\n",
       "      <td>0</td>\n",
       "      <td>NaN</td>\n",
       "      <td>0</td>\n",
       "      <td>NaN</td>\n",
       "      <td>NaN</td>\n",
       "      <td>NaN</td>\n",
       "      <td>NaN</td>\n",
       "      <td>NaN</td>\n",
       "    </tr>\n",
       "  </tbody>\n",
       "</table>\n",
       "<p>5 rows × 29 columns</p>\n",
       "</div>"
      ],
      "text/plain": [
       "   Year  Month  DayofMonth  DayOfWeek  DepTime  CRSDepTime  ArrTime  \\\n",
       "0  2008      6          18          3   2111.0        2055   2308.0   \n",
       "1  2008      6           4          3   1426.0        1410   1730.0   \n",
       "2  2008      8           3          7   1143.0        1145   1501.0   \n",
       "3  2008      1          23          3   1141.0        1144   1323.0   \n",
       "4  2008      5           4          7    815.0         820   1243.0   \n",
       "\n",
       "   CRSArrTime UniqueCarrier  FlightNum  ... TaxiIn  TaxiOut  Cancelled  \\\n",
       "0        2300            WN        242  ...    3.0      8.0          0   \n",
       "1        1728            XE       2380  ...    4.0     12.0          0   \n",
       "2        1520            WN       1769  ...    4.0      9.0          0   \n",
       "3        1335            OO       3802  ...    4.0     19.0          0   \n",
       "4        1300            WN        399  ...    4.0      8.0          0   \n",
       "\n",
       "   CancellationCode  Diverted  CarrierDelay WeatherDelay NASDelay  \\\n",
       "0               NaN         0           NaN          NaN      NaN   \n",
       "1               NaN         0           NaN          NaN      NaN   \n",
       "2               NaN         0           NaN          NaN      NaN   \n",
       "3               NaN         0           NaN          NaN      NaN   \n",
       "4               NaN         0           NaN          NaN      NaN   \n",
       "\n",
       "   SecurityDelay  LateAircraftDelay  \n",
       "0            NaN                NaN  \n",
       "1            NaN                NaN  \n",
       "2            NaN                NaN  \n",
       "3            NaN                NaN  \n",
       "4            NaN                NaN  \n",
       "\n",
       "[5 rows x 29 columns]"
      ]
     },
     "execution_count": 8,
     "metadata": {},
     "output_type": "execute_result"
    }
   ],
   "source": [
    "df = pd.read_csv('2008.csv')\n",
    "df.head()"
   ]
  },
  {
   "cell_type": "markdown",
   "metadata": {},
   "source": [
    "**6. (0.3 балла)** Какая из причин отмены рейса (`CancellationCode`) была самой частой? (расшифровки кодов можно найти в описании данных)"
   ]
  },
  {
   "cell_type": "code",
   "execution_count": 9,
   "metadata": {},
   "outputs": [
    {
     "name": "stdout",
     "output_type": "stream",
     "text": [
      "Распространенность причин:\n",
      "A    563\n",
      "B    549\n",
      "C    299\n",
      "Name: CancellationCode, dtype: int64\n",
      "Самая частая причина отмены рейса: A\n"
     ]
    }
   ],
   "source": [
    "print('Распространенность причин:\\n', df['CancellationCode'].value_counts(),sep='')\n",
    "print('Самая частая причина отмены рейса:', df['CancellationCode'].value_counts().index[0])"
   ]
  },
  {
   "cell_type": "markdown",
   "metadata": {},
   "source": [
    "**7. (0.3 балла)** Найдите среднее, минимальное и максимальное расстояние, пройденное самолетом."
   ]
  },
  {
   "cell_type": "code",
   "execution_count": 10,
   "metadata": {},
   "outputs": [
    {
     "name": "stdout",
     "output_type": "stream",
     "text": [
      "Среднее расстояние: 724.51 миль\n",
      "Минимальное расстояние: 31 миль\n",
      "Максимальное расстояние: 4962 миль\n"
     ]
    }
   ],
   "source": [
    "print('Среднее расстояние:', round(df['Distance'].mean(), 2), 'миль')\n",
    "print('Минимальное расстояние:', df['Distance'].min(), 'миль')\n",
    "print('Максимальное расстояние:', df['Distance'].max(), 'миль')"
   ]
  },
  {
   "cell_type": "markdown",
   "metadata": {},
   "source": [
    "**8. (0.3 балла)** Не выглядит ли подозрительным минимальное пройденное расстояние? В какие дни и на каких рейсах оно было? Какое расстояние было пройдено этими же рейсами в другие дни?"
   ]
  },
  {
   "cell_type": "code",
   "execution_count": 11,
   "metadata": {},
   "outputs": [
    {
     "data": {
      "text/html": [
       "<div>\n",
       "<style scoped>\n",
       "    .dataframe tbody tr th:only-of-type {\n",
       "        vertical-align: middle;\n",
       "    }\n",
       "\n",
       "    .dataframe tbody tr th {\n",
       "        vertical-align: top;\n",
       "    }\n",
       "\n",
       "    .dataframe thead th {\n",
       "        text-align: right;\n",
       "    }\n",
       "</style>\n",
       "<table border=\"1\" class=\"dataframe\">\n",
       "  <thead>\n",
       "    <tr style=\"text-align: right;\">\n",
       "      <th></th>\n",
       "      <th>FlightNum</th>\n",
       "      <th>Year</th>\n",
       "      <th>Month</th>\n",
       "      <th>DayofMonth</th>\n",
       "      <th>Distance</th>\n",
       "    </tr>\n",
       "  </thead>\n",
       "  <tbody>\n",
       "    <tr>\n",
       "      <th>1116</th>\n",
       "      <td>65</td>\n",
       "      <td>2008</td>\n",
       "      <td>12</td>\n",
       "      <td>30</td>\n",
       "      <td>31</td>\n",
       "    </tr>\n",
       "    <tr>\n",
       "      <th>6958</th>\n",
       "      <td>65</td>\n",
       "      <td>2008</td>\n",
       "      <td>12</td>\n",
       "      <td>26</td>\n",
       "      <td>31</td>\n",
       "    </tr>\n",
       "    <tr>\n",
       "      <th>17349</th>\n",
       "      <td>64</td>\n",
       "      <td>2008</td>\n",
       "      <td>8</td>\n",
       "      <td>18</td>\n",
       "      <td>31</td>\n",
       "    </tr>\n",
       "    <tr>\n",
       "      <th>27534</th>\n",
       "      <td>64</td>\n",
       "      <td>2008</td>\n",
       "      <td>3</td>\n",
       "      <td>11</td>\n",
       "      <td>31</td>\n",
       "    </tr>\n",
       "    <tr>\n",
       "      <th>46082</th>\n",
       "      <td>65</td>\n",
       "      <td>2008</td>\n",
       "      <td>8</td>\n",
       "      <td>9</td>\n",
       "      <td>31</td>\n",
       "    </tr>\n",
       "    <tr>\n",
       "      <th>48112</th>\n",
       "      <td>64</td>\n",
       "      <td>2008</td>\n",
       "      <td>2</td>\n",
       "      <td>28</td>\n",
       "      <td>31</td>\n",
       "    </tr>\n",
       "  </tbody>\n",
       "</table>\n",
       "</div>"
      ],
      "text/plain": [
       "       FlightNum  Year  Month  DayofMonth  Distance\n",
       "1116          65  2008     12          30        31\n",
       "6958          65  2008     12          26        31\n",
       "17349         64  2008      8          18        31\n",
       "27534         64  2008      3          11        31\n",
       "46082         65  2008      8           9        31\n",
       "48112         64  2008      2          28        31"
      ]
     },
     "execution_count": 11,
     "metadata": {},
     "output_type": "execute_result"
    }
   ],
   "source": [
    "df.query('Distance == 31')[['FlightNum', 'Year', 'Month', 'DayofMonth', 'Distance']]"
   ]
  },
  {
   "cell_type": "code",
   "execution_count": 12,
   "metadata": {},
   "outputs": [
    {
     "data": {
      "text/html": [
       "<div>\n",
       "<style scoped>\n",
       "    .dataframe tbody tr th:only-of-type {\n",
       "        vertical-align: middle;\n",
       "    }\n",
       "\n",
       "    .dataframe tbody tr th {\n",
       "        vertical-align: top;\n",
       "    }\n",
       "\n",
       "    .dataframe thead th {\n",
       "        text-align: right;\n",
       "    }\n",
       "</style>\n",
       "<table border=\"1\" class=\"dataframe\">\n",
       "  <thead>\n",
       "    <tr style=\"text-align: right;\">\n",
       "      <th></th>\n",
       "      <th>FlightNum</th>\n",
       "      <th>Year</th>\n",
       "      <th>Month</th>\n",
       "      <th>DayofMonth</th>\n",
       "      <th>Distance</th>\n",
       "    </tr>\n",
       "  </thead>\n",
       "  <tbody>\n",
       "    <tr>\n",
       "      <th>501</th>\n",
       "      <td>64</td>\n",
       "      <td>2008</td>\n",
       "      <td>3</td>\n",
       "      <td>20</td>\n",
       "      <td>533</td>\n",
       "    </tr>\n",
       "    <tr>\n",
       "      <th>1116</th>\n",
       "      <td>65</td>\n",
       "      <td>2008</td>\n",
       "      <td>12</td>\n",
       "      <td>30</td>\n",
       "      <td>31</td>\n",
       "    </tr>\n",
       "    <tr>\n",
       "      <th>1389</th>\n",
       "      <td>64</td>\n",
       "      <td>2008</td>\n",
       "      <td>3</td>\n",
       "      <td>13</td>\n",
       "      <td>680</td>\n",
       "    </tr>\n",
       "    <tr>\n",
       "      <th>1517</th>\n",
       "      <td>65</td>\n",
       "      <td>2008</td>\n",
       "      <td>7</td>\n",
       "      <td>10</td>\n",
       "      <td>680</td>\n",
       "    </tr>\n",
       "    <tr>\n",
       "      <th>2619</th>\n",
       "      <td>64</td>\n",
       "      <td>2008</td>\n",
       "      <td>5</td>\n",
       "      <td>23</td>\n",
       "      <td>2381</td>\n",
       "    </tr>\n",
       "    <tr>\n",
       "      <th>...</th>\n",
       "      <td>...</td>\n",
       "      <td>...</td>\n",
       "      <td>...</td>\n",
       "      <td>...</td>\n",
       "      <td>...</td>\n",
       "    </tr>\n",
       "    <tr>\n",
       "      <th>66529</th>\n",
       "      <td>65</td>\n",
       "      <td>2008</td>\n",
       "      <td>12</td>\n",
       "      <td>21</td>\n",
       "      <td>82</td>\n",
       "    </tr>\n",
       "    <tr>\n",
       "      <th>67172</th>\n",
       "      <td>64</td>\n",
       "      <td>2008</td>\n",
       "      <td>3</td>\n",
       "      <td>22</td>\n",
       "      <td>533</td>\n",
       "    </tr>\n",
       "    <tr>\n",
       "      <th>68264</th>\n",
       "      <td>65</td>\n",
       "      <td>2008</td>\n",
       "      <td>9</td>\n",
       "      <td>7</td>\n",
       "      <td>386</td>\n",
       "    </tr>\n",
       "    <tr>\n",
       "      <th>68338</th>\n",
       "      <td>65</td>\n",
       "      <td>2008</td>\n",
       "      <td>8</td>\n",
       "      <td>3</td>\n",
       "      <td>2454</td>\n",
       "    </tr>\n",
       "    <tr>\n",
       "      <th>69305</th>\n",
       "      <td>65</td>\n",
       "      <td>2008</td>\n",
       "      <td>1</td>\n",
       "      <td>5</td>\n",
       "      <td>1005</td>\n",
       "    </tr>\n",
       "  </tbody>\n",
       "</table>\n",
       "<p>78 rows × 5 columns</p>\n",
       "</div>"
      ],
      "text/plain": [
       "       FlightNum  Year  Month  DayofMonth  Distance\n",
       "501           64  2008      3          20       533\n",
       "1116          65  2008     12          30        31\n",
       "1389          64  2008      3          13       680\n",
       "1517          65  2008      7          10       680\n",
       "2619          64  2008      5          23      2381\n",
       "...          ...   ...    ...         ...       ...\n",
       "66529         65  2008     12          21        82\n",
       "67172         64  2008      3          22       533\n",
       "68264         65  2008      9           7       386\n",
       "68338         65  2008      8           3      2454\n",
       "69305         65  2008      1           5      1005\n",
       "\n",
       "[78 rows x 5 columns]"
      ]
     },
     "execution_count": 12,
     "metadata": {},
     "output_type": "execute_result"
    }
   ],
   "source": [
    "df.query('FlightNum == 64 | FlightNum == 65')[['FlightNum', 'Year', 'Month', 'DayofMonth', 'Distance']]"
   ]
  },
  {
   "cell_type": "markdown",
   "metadata": {},
   "source": [
    "**9. (0.3 балла)** Из какого аэропорта было произведено больше всего вылетов? В каком городе он находится?"
   ]
  },
  {
   "cell_type": "code",
   "execution_count": 13,
   "metadata": {
    "scrolled": false
   },
   "outputs": [
    {
     "name": "stdout",
     "output_type": "stream",
     "text": [
      "Из аэропорта ATL было произведено больше всего вылетов\n"
     ]
    }
   ],
   "source": [
    "print('Из аэропорта {} было произведено больше всего вылетов'.\n",
    "      format(df['Origin'].value_counts().index[0]))"
   ]
  },
  {
   "cell_type": "markdown",
   "metadata": {},
   "source": [
    "ATL - Атланта"
   ]
  },
  {
   "cell_type": "markdown",
   "metadata": {},
   "source": [
    "**10. (0.3 балла)** Найдите для каждого аэропорта среднее время полета (`AirTime`) по всем вылетевшим из него рейсам. Какой аэропорт имеет наибольшее значение этого показателя?"
   ]
  },
  {
   "cell_type": "code",
   "execution_count": 14,
   "metadata": {},
   "outputs": [
    {
     "data": {
      "text/html": [
       "<div>\n",
       "<style scoped>\n",
       "    .dataframe tbody tr th:only-of-type {\n",
       "        vertical-align: middle;\n",
       "    }\n",
       "\n",
       "    .dataframe tbody tr th {\n",
       "        vertical-align: top;\n",
       "    }\n",
       "\n",
       "    .dataframe thead th {\n",
       "        text-align: right;\n",
       "    }\n",
       "</style>\n",
       "<table border=\"1\" class=\"dataframe\">\n",
       "  <thead>\n",
       "    <tr style=\"text-align: right;\">\n",
       "      <th></th>\n",
       "      <th>Origin</th>\n",
       "      <th>AirTime</th>\n",
       "    </tr>\n",
       "  </thead>\n",
       "  <tbody>\n",
       "    <tr>\n",
       "      <th>0</th>\n",
       "      <td>SJU</td>\n",
       "      <td>205.200000</td>\n",
       "    </tr>\n",
       "    <tr>\n",
       "      <th>1</th>\n",
       "      <td>BQN</td>\n",
       "      <td>193.954545</td>\n",
       "    </tr>\n",
       "    <tr>\n",
       "      <th>2</th>\n",
       "      <td>PSE</td>\n",
       "      <td>191.875000</td>\n",
       "    </tr>\n",
       "    <tr>\n",
       "      <th>3</th>\n",
       "      <td>STT</td>\n",
       "      <td>185.029412</td>\n",
       "    </tr>\n",
       "    <tr>\n",
       "      <th>4</th>\n",
       "      <td>ANC</td>\n",
       "      <td>165.415094</td>\n",
       "    </tr>\n",
       "    <tr>\n",
       "      <th>...</th>\n",
       "      <td>...</td>\n",
       "      <td>...</td>\n",
       "    </tr>\n",
       "    <tr>\n",
       "      <th>292</th>\n",
       "      <td>PSG</td>\n",
       "      <td>20.250000</td>\n",
       "    </tr>\n",
       "    <tr>\n",
       "      <th>293</th>\n",
       "      <td>OXR</td>\n",
       "      <td>19.666667</td>\n",
       "    </tr>\n",
       "    <tr>\n",
       "      <th>294</th>\n",
       "      <td>WRG</td>\n",
       "      <td>18.000000</td>\n",
       "    </tr>\n",
       "    <tr>\n",
       "      <th>295</th>\n",
       "      <td>GST</td>\n",
       "      <td>13.000000</td>\n",
       "    </tr>\n",
       "    <tr>\n",
       "      <th>296</th>\n",
       "      <td>DLG</td>\n",
       "      <td>NaN</td>\n",
       "    </tr>\n",
       "  </tbody>\n",
       "</table>\n",
       "<p>297 rows × 2 columns</p>\n",
       "</div>"
      ],
      "text/plain": [
       "    Origin     AirTime\n",
       "0      SJU  205.200000\n",
       "1      BQN  193.954545\n",
       "2      PSE  191.875000\n",
       "3      STT  185.029412\n",
       "4      ANC  165.415094\n",
       "..     ...         ...\n",
       "292    PSG   20.250000\n",
       "293    OXR   19.666667\n",
       "294    WRG   18.000000\n",
       "295    GST   13.000000\n",
       "296    DLG         NaN\n",
       "\n",
       "[297 rows x 2 columns]"
      ]
     },
     "metadata": {},
     "output_type": "display_data"
    },
    {
     "name": "stdout",
     "output_type": "stream",
     "text": [
      "Аэропорт с наибольшим средним временем полета: SJU\n"
     ]
    }
   ],
   "source": [
    "max_time_airports = df.groupby('Origin')['AirTime'].mean().sort_values(ascending=False).reset_index()\n",
    "display(max_time_airports)\n",
    "print('Аэропорт с наибольшим средним временем полета:',\n",
    "      df.groupby('Origin')['AirTime'].mean().sort_values(ascending=False).head(1).keys()[0])"
   ]
  },
  {
   "cell_type": "markdown",
   "metadata": {},
   "source": [
    "**11. (0.5 балла)** Найдите аэропорт, у которого наибольшая доля задержанных (`DepDelay > 0`) рейсов. Исключите при этом из рассмотрения аэропорты, из которых было отправлено меньше 1000 рейсов (используйте функцию `filter` после `groupby`)."
   ]
  },
  {
   "cell_type": "code",
   "execution_count": 15,
   "metadata": {},
   "outputs": [
    {
     "data": {
      "text/plain": [
       "Origin\n",
       "ATL    4134\n",
       "BOS    1162\n",
       "BWI    1032\n",
       "CLT    1250\n",
       "DEN    2383\n",
       "DFW    2793\n",
       "DTW    1610\n",
       "EWR    1389\n",
       "IAH    1795\n",
       "JFK    1201\n",
       "LAS    1793\n",
       "LAX    2082\n",
       "LGA    1169\n",
       "MCO    1338\n",
       "MSP    1254\n",
       "ORD    3550\n",
       "PHL    1027\n",
       "PHX    2031\n",
       "SEA    1128\n",
       "SFO    1408\n",
       "SLC    1325\n",
       "dtype: int64"
      ]
     },
     "execution_count": 15,
     "metadata": {},
     "output_type": "execute_result"
    }
   ],
   "source": [
    "df_all = df.groupby('Origin').size()\n",
    "df_all[df_all > 1000]"
   ]
  },
  {
   "cell_type": "code",
   "execution_count": 16,
   "metadata": {},
   "outputs": [
    {
     "data": {
      "text/plain": [
       "Origin\n",
       "ATL    1739\n",
       "BOS     376\n",
       "BWI     467\n",
       "CLT     498\n",
       "DEN    1063\n",
       "DFW    1283\n",
       "DTW     569\n",
       "EWR     710\n",
       "IAH     841\n",
       "JFK     444\n",
       "LAS     779\n",
       "LAX     859\n",
       "LGA     358\n",
       "MCO     537\n",
       "MSP     459\n",
       "ORD    1649\n",
       "PHL     432\n",
       "PHX     858\n",
       "SEA     495\n",
       "SFO     558\n",
       "SLC     424\n",
       "dtype: int64"
      ]
     },
     "execution_count": 16,
     "metadata": {},
     "output_type": "execute_result"
    }
   ],
   "source": [
    "df_depdelay = df.query('DepDelay > 0').groupby('Origin').size()\n",
    "df_depdelay[df_all > 1000]"
   ]
  },
  {
   "cell_type": "code",
   "execution_count": 17,
   "metadata": {},
   "outputs": [
    {
     "name": "stdout",
     "output_type": "stream",
     "text": [
      "Аэропорт с наибольшей долей задержанных рейсов: EWR\n"
     ]
    }
   ],
   "source": [
    "print('Аэропорт с наибольшей долей задержанных рейсов:', \n",
    "      (df_depdelay[df_all > 1000] / df_all[df_all > 1000]).idxmax())"
   ]
  },
  {
   "cell_type": "markdown",
   "metadata": {},
   "source": [
    "## Линейная регрессия\n",
    "\n",
    "В этой части мы разберемся с линейной регрессией, способами её обучения и измерением качества ее прогнозов. \n",
    "\n",
    "Будем рассматривать датасет из предыдущей части задания для предсказания времени задержки отправления рейса в минутах (DepDelay). Отметим, что под задержкой подразумевается не только опоздание рейса относительно планируемого времени вылета, но и отправление до планируемого времени.\n",
    "\n",
    "### Подготовка данных\n",
    "\n",
    "**12. (0.5 балла)** Считайте выборку из файла при помощи функции pd.read_csv и ответьте на следующие вопросы:\n",
    "   - Имеются ли в данных пропущенные значения?\n",
    "   - Сколько всего пропущенных элементов в таблице \"объект-признак\"?\n",
    "   - Сколько объектов имеют хотя бы один пропуск?\n",
    "   - Сколько признаков имеют хотя бы одно пропущенное значение?"
   ]
  },
  {
   "cell_type": "code",
   "execution_count": 18,
   "metadata": {
    "scrolled": false
   },
   "outputs": [
    {
     "data": {
      "text/plain": [
       "Year                     0\n",
       "Month                    0\n",
       "DayofMonth               0\n",
       "DayOfWeek                0\n",
       "DepTime               1399\n",
       "CRSDepTime               0\n",
       "ArrTime               1556\n",
       "CRSArrTime               0\n",
       "UniqueCarrier            0\n",
       "FlightNum                0\n",
       "TailNum                820\n",
       "ActualElapsedTime     1582\n",
       "CRSElapsedTime           9\n",
       "AirTime               1582\n",
       "ArrDelay              1582\n",
       "DepDelay              1399\n",
       "Origin                   0\n",
       "Dest                     0\n",
       "Distance                 0\n",
       "TaxiIn                1556\n",
       "TaxiOut               1406\n",
       "Cancelled                0\n",
       "CancellationCode     68589\n",
       "Diverted                 0\n",
       "CarrierDelay         54747\n",
       "WeatherDelay         54747\n",
       "NASDelay             54747\n",
       "SecurityDelay        54747\n",
       "LateAircraftDelay    54747\n",
       "dtype: int64"
      ]
     },
     "execution_count": 18,
     "metadata": {},
     "output_type": "execute_result"
    }
   ],
   "source": [
    "df.isnull().sum()"
   ]
  },
  {
   "cell_type": "code",
   "execution_count": 19,
   "metadata": {},
   "outputs": [
    {
     "name": "stdout",
     "output_type": "stream",
     "text": [
      "Всего пропущенных элементов в таблице: 355215\n",
      "Количество объектов, имеющих хотя бы один пропуск: 70000\n",
      "Количество признаков, имеющих хотя бы один пропуск: 16\n"
     ]
    }
   ],
   "source": [
    "print('Всего пропущенных элементов в таблице:', df.isnull().sum().sum())\n",
    "print('Количество объектов, имеющих хотя бы один пропуск:', np.count_nonzero(np.array(df.isnull().sum(axis = 1))))\n",
    "print('Количество признаков, имеющих хотя бы один пропуск:', np.count_nonzero(np.array(df.isnull().sum())))"
   ]
  },
  {
   "cell_type": "markdown",
   "metadata": {},
   "source": [
    "Как вы понимаете, также не имеет смысла рассматривать при решении поставленной задачи объекты с пропущенным значением целевой переменной. В связи с этим ответьте на следующие вопросы и выполните соответствующие действия:\n",
    "- Имеются ли пропущенные значения в целевой переменной?\n",
    "- Проанализируйте объекты с пропущенными значениями целевой переменной. Чем вызвано это явление? Что их объединяет? Можно ли в связи с этим, на ваш взгляд, исключить какие-то признаки из рассмотрения? Обоснуйте свою точку зрения.\n",
    "\n",
    "Исключите из выборки объекты **с пропущенным значением целевой переменной и со значением целевой переменной, равным 0**, а также при необходимости исключите признаки в соответствии с вашим ответом на последний вопрос из списка и выделите целевую переменную в отдельный вектор, исключив её из матрицы \"объект-признак\"."
   ]
  },
  {
   "cell_type": "code",
   "execution_count": 20,
   "metadata": {
    "scrolled": true
   },
   "outputs": [
    {
     "name": "stdout",
     "output_type": "stream",
     "text": [
      "Количество пропущенных значений в целевой переменной:  1399\n"
     ]
    },
    {
     "data": {
      "text/html": [
       "<div>\n",
       "<style scoped>\n",
       "    .dataframe tbody tr th:only-of-type {\n",
       "        vertical-align: middle;\n",
       "    }\n",
       "\n",
       "    .dataframe tbody tr th {\n",
       "        vertical-align: top;\n",
       "    }\n",
       "\n",
       "    .dataframe thead th {\n",
       "        text-align: right;\n",
       "    }\n",
       "</style>\n",
       "<table border=\"1\" class=\"dataframe\">\n",
       "  <thead>\n",
       "    <tr style=\"text-align: right;\">\n",
       "      <th></th>\n",
       "      <th>Year</th>\n",
       "      <th>Month</th>\n",
       "      <th>DayofMonth</th>\n",
       "      <th>DayOfWeek</th>\n",
       "      <th>DepTime</th>\n",
       "      <th>CRSDepTime</th>\n",
       "      <th>ArrTime</th>\n",
       "      <th>CRSArrTime</th>\n",
       "      <th>UniqueCarrier</th>\n",
       "      <th>FlightNum</th>\n",
       "      <th>...</th>\n",
       "      <th>TaxiIn</th>\n",
       "      <th>TaxiOut</th>\n",
       "      <th>Cancelled</th>\n",
       "      <th>CancellationCode</th>\n",
       "      <th>Diverted</th>\n",
       "      <th>CarrierDelay</th>\n",
       "      <th>WeatherDelay</th>\n",
       "      <th>NASDelay</th>\n",
       "      <th>SecurityDelay</th>\n",
       "      <th>LateAircraftDelay</th>\n",
       "    </tr>\n",
       "  </thead>\n",
       "  <tbody>\n",
       "    <tr>\n",
       "      <th>11</th>\n",
       "      <td>2008</td>\n",
       "      <td>3</td>\n",
       "      <td>6</td>\n",
       "      <td>4</td>\n",
       "      <td>NaN</td>\n",
       "      <td>1605</td>\n",
       "      <td>NaN</td>\n",
       "      <td>1940</td>\n",
       "      <td>AA</td>\n",
       "      <td>484</td>\n",
       "      <td>...</td>\n",
       "      <td>NaN</td>\n",
       "      <td>NaN</td>\n",
       "      <td>1</td>\n",
       "      <td>B</td>\n",
       "      <td>0</td>\n",
       "      <td>NaN</td>\n",
       "      <td>NaN</td>\n",
       "      <td>NaN</td>\n",
       "      <td>NaN</td>\n",
       "      <td>NaN</td>\n",
       "    </tr>\n",
       "    <tr>\n",
       "      <th>78</th>\n",
       "      <td>2008</td>\n",
       "      <td>1</td>\n",
       "      <td>19</td>\n",
       "      <td>6</td>\n",
       "      <td>NaN</td>\n",
       "      <td>750</td>\n",
       "      <td>NaN</td>\n",
       "      <td>930</td>\n",
       "      <td>EV</td>\n",
       "      <td>4772</td>\n",
       "      <td>...</td>\n",
       "      <td>NaN</td>\n",
       "      <td>NaN</td>\n",
       "      <td>1</td>\n",
       "      <td>B</td>\n",
       "      <td>0</td>\n",
       "      <td>NaN</td>\n",
       "      <td>NaN</td>\n",
       "      <td>NaN</td>\n",
       "      <td>NaN</td>\n",
       "      <td>NaN</td>\n",
       "    </tr>\n",
       "    <tr>\n",
       "      <th>103</th>\n",
       "      <td>2008</td>\n",
       "      <td>7</td>\n",
       "      <td>24</td>\n",
       "      <td>4</td>\n",
       "      <td>NaN</td>\n",
       "      <td>1230</td>\n",
       "      <td>NaN</td>\n",
       "      <td>1355</td>\n",
       "      <td>FL</td>\n",
       "      <td>816</td>\n",
       "      <td>...</td>\n",
       "      <td>NaN</td>\n",
       "      <td>NaN</td>\n",
       "      <td>1</td>\n",
       "      <td>A</td>\n",
       "      <td>0</td>\n",
       "      <td>NaN</td>\n",
       "      <td>NaN</td>\n",
       "      <td>NaN</td>\n",
       "      <td>NaN</td>\n",
       "      <td>NaN</td>\n",
       "    </tr>\n",
       "    <tr>\n",
       "      <th>112</th>\n",
       "      <td>2008</td>\n",
       "      <td>2</td>\n",
       "      <td>4</td>\n",
       "      <td>1</td>\n",
       "      <td>NaN</td>\n",
       "      <td>620</td>\n",
       "      <td>NaN</td>\n",
       "      <td>758</td>\n",
       "      <td>NW</td>\n",
       "      <td>1281</td>\n",
       "      <td>...</td>\n",
       "      <td>NaN</td>\n",
       "      <td>NaN</td>\n",
       "      <td>1</td>\n",
       "      <td>B</td>\n",
       "      <td>0</td>\n",
       "      <td>NaN</td>\n",
       "      <td>NaN</td>\n",
       "      <td>NaN</td>\n",
       "      <td>NaN</td>\n",
       "      <td>NaN</td>\n",
       "    </tr>\n",
       "    <tr>\n",
       "      <th>128</th>\n",
       "      <td>2008</td>\n",
       "      <td>1</td>\n",
       "      <td>21</td>\n",
       "      <td>1</td>\n",
       "      <td>NaN</td>\n",
       "      <td>1838</td>\n",
       "      <td>NaN</td>\n",
       "      <td>2005</td>\n",
       "      <td>UA</td>\n",
       "      <td>1251</td>\n",
       "      <td>...</td>\n",
       "      <td>NaN</td>\n",
       "      <td>NaN</td>\n",
       "      <td>1</td>\n",
       "      <td>A</td>\n",
       "      <td>0</td>\n",
       "      <td>NaN</td>\n",
       "      <td>NaN</td>\n",
       "      <td>NaN</td>\n",
       "      <td>NaN</td>\n",
       "      <td>NaN</td>\n",
       "    </tr>\n",
       "    <tr>\n",
       "      <th>...</th>\n",
       "      <td>...</td>\n",
       "      <td>...</td>\n",
       "      <td>...</td>\n",
       "      <td>...</td>\n",
       "      <td>...</td>\n",
       "      <td>...</td>\n",
       "      <td>...</td>\n",
       "      <td>...</td>\n",
       "      <td>...</td>\n",
       "      <td>...</td>\n",
       "      <td>...</td>\n",
       "      <td>...</td>\n",
       "      <td>...</td>\n",
       "      <td>...</td>\n",
       "      <td>...</td>\n",
       "      <td>...</td>\n",
       "      <td>...</td>\n",
       "      <td>...</td>\n",
       "      <td>...</td>\n",
       "      <td>...</td>\n",
       "      <td>...</td>\n",
       "    </tr>\n",
       "    <tr>\n",
       "      <th>69818</th>\n",
       "      <td>2008</td>\n",
       "      <td>6</td>\n",
       "      <td>9</td>\n",
       "      <td>1</td>\n",
       "      <td>NaN</td>\n",
       "      <td>1645</td>\n",
       "      <td>NaN</td>\n",
       "      <td>1800</td>\n",
       "      <td>MQ</td>\n",
       "      <td>3627</td>\n",
       "      <td>...</td>\n",
       "      <td>NaN</td>\n",
       "      <td>NaN</td>\n",
       "      <td>1</td>\n",
       "      <td>C</td>\n",
       "      <td>0</td>\n",
       "      <td>NaN</td>\n",
       "      <td>NaN</td>\n",
       "      <td>NaN</td>\n",
       "      <td>NaN</td>\n",
       "      <td>NaN</td>\n",
       "    </tr>\n",
       "    <tr>\n",
       "      <th>69836</th>\n",
       "      <td>2008</td>\n",
       "      <td>1</td>\n",
       "      <td>25</td>\n",
       "      <td>5</td>\n",
       "      <td>NaN</td>\n",
       "      <td>938</td>\n",
       "      <td>NaN</td>\n",
       "      <td>1030</td>\n",
       "      <td>MQ</td>\n",
       "      <td>3254</td>\n",
       "      <td>...</td>\n",
       "      <td>NaN</td>\n",
       "      <td>NaN</td>\n",
       "      <td>1</td>\n",
       "      <td>B</td>\n",
       "      <td>0</td>\n",
       "      <td>NaN</td>\n",
       "      <td>NaN</td>\n",
       "      <td>NaN</td>\n",
       "      <td>NaN</td>\n",
       "      <td>NaN</td>\n",
       "    </tr>\n",
       "    <tr>\n",
       "      <th>69884</th>\n",
       "      <td>2008</td>\n",
       "      <td>12</td>\n",
       "      <td>26</td>\n",
       "      <td>5</td>\n",
       "      <td>NaN</td>\n",
       "      <td>1935</td>\n",
       "      <td>NaN</td>\n",
       "      <td>2116</td>\n",
       "      <td>NW</td>\n",
       "      <td>1430</td>\n",
       "      <td>...</td>\n",
       "      <td>NaN</td>\n",
       "      <td>NaN</td>\n",
       "      <td>1</td>\n",
       "      <td>B</td>\n",
       "      <td>0</td>\n",
       "      <td>NaN</td>\n",
       "      <td>NaN</td>\n",
       "      <td>NaN</td>\n",
       "      <td>NaN</td>\n",
       "      <td>NaN</td>\n",
       "    </tr>\n",
       "    <tr>\n",
       "      <th>69918</th>\n",
       "      <td>2008</td>\n",
       "      <td>3</td>\n",
       "      <td>1</td>\n",
       "      <td>6</td>\n",
       "      <td>NaN</td>\n",
       "      <td>600</td>\n",
       "      <td>NaN</td>\n",
       "      <td>742</td>\n",
       "      <td>EV</td>\n",
       "      <td>4715</td>\n",
       "      <td>...</td>\n",
       "      <td>NaN</td>\n",
       "      <td>NaN</td>\n",
       "      <td>1</td>\n",
       "      <td>A</td>\n",
       "      <td>0</td>\n",
       "      <td>NaN</td>\n",
       "      <td>NaN</td>\n",
       "      <td>NaN</td>\n",
       "      <td>NaN</td>\n",
       "      <td>NaN</td>\n",
       "    </tr>\n",
       "    <tr>\n",
       "      <th>69949</th>\n",
       "      <td>2008</td>\n",
       "      <td>1</td>\n",
       "      <td>21</td>\n",
       "      <td>1</td>\n",
       "      <td>NaN</td>\n",
       "      <td>1630</td>\n",
       "      <td>NaN</td>\n",
       "      <td>1729</td>\n",
       "      <td>MQ</td>\n",
       "      <td>4198</td>\n",
       "      <td>...</td>\n",
       "      <td>NaN</td>\n",
       "      <td>NaN</td>\n",
       "      <td>1</td>\n",
       "      <td>C</td>\n",
       "      <td>0</td>\n",
       "      <td>NaN</td>\n",
       "      <td>NaN</td>\n",
       "      <td>NaN</td>\n",
       "      <td>NaN</td>\n",
       "      <td>NaN</td>\n",
       "    </tr>\n",
       "  </tbody>\n",
       "</table>\n",
       "<p>1399 rows × 29 columns</p>\n",
       "</div>"
      ],
      "text/plain": [
       "       Year  Month  DayofMonth  DayOfWeek  DepTime  CRSDepTime  ArrTime  \\\n",
       "11     2008      3           6          4      NaN        1605      NaN   \n",
       "78     2008      1          19          6      NaN         750      NaN   \n",
       "103    2008      7          24          4      NaN        1230      NaN   \n",
       "112    2008      2           4          1      NaN         620      NaN   \n",
       "128    2008      1          21          1      NaN        1838      NaN   \n",
       "...     ...    ...         ...        ...      ...         ...      ...   \n",
       "69818  2008      6           9          1      NaN        1645      NaN   \n",
       "69836  2008      1          25          5      NaN         938      NaN   \n",
       "69884  2008     12          26          5      NaN        1935      NaN   \n",
       "69918  2008      3           1          6      NaN         600      NaN   \n",
       "69949  2008      1          21          1      NaN        1630      NaN   \n",
       "\n",
       "       CRSArrTime UniqueCarrier  FlightNum  ... TaxiIn  TaxiOut  Cancelled  \\\n",
       "11           1940            AA        484  ...    NaN      NaN          1   \n",
       "78            930            EV       4772  ...    NaN      NaN          1   \n",
       "103          1355            FL        816  ...    NaN      NaN          1   \n",
       "112           758            NW       1281  ...    NaN      NaN          1   \n",
       "128          2005            UA       1251  ...    NaN      NaN          1   \n",
       "...           ...           ...        ...  ...    ...      ...        ...   \n",
       "69818        1800            MQ       3627  ...    NaN      NaN          1   \n",
       "69836        1030            MQ       3254  ...    NaN      NaN          1   \n",
       "69884        2116            NW       1430  ...    NaN      NaN          1   \n",
       "69918         742            EV       4715  ...    NaN      NaN          1   \n",
       "69949        1729            MQ       4198  ...    NaN      NaN          1   \n",
       "\n",
       "       CancellationCode  Diverted  CarrierDelay WeatherDelay NASDelay  \\\n",
       "11                    B         0           NaN          NaN      NaN   \n",
       "78                    B         0           NaN          NaN      NaN   \n",
       "103                   A         0           NaN          NaN      NaN   \n",
       "112                   B         0           NaN          NaN      NaN   \n",
       "128                   A         0           NaN          NaN      NaN   \n",
       "...                 ...       ...           ...          ...      ...   \n",
       "69818                 C         0           NaN          NaN      NaN   \n",
       "69836                 B         0           NaN          NaN      NaN   \n",
       "69884                 B         0           NaN          NaN      NaN   \n",
       "69918                 A         0           NaN          NaN      NaN   \n",
       "69949                 C         0           NaN          NaN      NaN   \n",
       "\n",
       "       SecurityDelay  LateAircraftDelay  \n",
       "11               NaN                NaN  \n",
       "78               NaN                NaN  \n",
       "103              NaN                NaN  \n",
       "112              NaN                NaN  \n",
       "128              NaN                NaN  \n",
       "...              ...                ...  \n",
       "69818            NaN                NaN  \n",
       "69836            NaN                NaN  \n",
       "69884            NaN                NaN  \n",
       "69918            NaN                NaN  \n",
       "69949            NaN                NaN  \n",
       "\n",
       "[1399 rows x 29 columns]"
      ]
     },
     "execution_count": 20,
     "metadata": {},
     "output_type": "execute_result"
    }
   ],
   "source": [
    "print('Количество пропущенных значений в целевой переменной: ', df['DepDelay'].isnull().sum())\n",
    "    \n",
    "df.query('DepDelay.isna() == True')"
   ]
  },
  {
   "cell_type": "code",
   "execution_count": 21,
   "metadata": {},
   "outputs": [
    {
     "data": {
      "text/plain": [
       "1399"
      ]
     },
     "execution_count": 21,
     "metadata": {},
     "output_type": "execute_result"
    }
   ],
   "source": [
    "len(df.query('Cancelled == 1 & DepDelay.isnull() == True'))"
   ]
  },
  {
   "cell_type": "markdown",
   "metadata": {},
   "source": [
    "У всех объектов с пропущенными значениями целевой переменной Cancelled = 1, т.е.  все рейсы отменены. "
   ]
  },
  {
   "cell_type": "markdown",
   "metadata": {},
   "source": [
    "**13. (0.5 балла)** Обратите внимание, что признаки DepTime, CRSDepTime, ArrTime, CRSArrTime приведены в формате hhmm, в связи с чем будет не вполне корректно рассматривать их как вещественные.\n",
    "\n",
    "Преобразуйте каждый признак FeatureName из указанных в пару новых признаков FeatureName\\_Hour, FeatureName\\_Minute, разделив каждое из значений на часы и минуты. Не забудьте при этом исключить исходный признак из выборки. В случае, если значение признака отсутствует, значения двух новых признаков, его заменяющих, также должны отсутствовать. \n",
    "\n",
    "Например, признак DepTime необходимо заменить на пару признаков DepTime_Hour, DepTime_Minute. При этом, например, значение 155 исходного признака будет преобразовано в значения 1 и 55 признаков DepTime_Hour, DepTime_Minute соответственно."
   ]
  },
  {
   "cell_type": "code",
   "execution_count": 22,
   "metadata": {},
   "outputs": [],
   "source": [
    "df = df.query('DepDelay.isnull() == False')\n",
    "df = df.query('DepDelay != 0')\n",
    "df.drop(['Cancelled', 'CancellationCode', 'CarrierDelay', 'WeatherDelay', 'NASDelay',\n",
    "         'SecurityDelay', 'LateAircraftDelay', 'Diverted'], axis = 1, inplace = True)\n",
    "\n",
    "df.index = np.arange(len(df))\n",
    "y = np.array(df['DepDelay'])\n",
    "X = df.drop('DepDelay', axis = 1)\n",
    "\n",
    "def get_hour(time): \n",
    "    if np.isnan(time):\n",
    "        return np.NaN    \n",
    "    else:\n",
    "        hour = str(int(time))[:-2]      \n",
    "        if hour == '':\n",
    "            return np.NaN \n",
    "        else:\n",
    "            return int(hour)\n",
    "        \n",
    "def get_min(time):\n",
    "    if np.isnan(time):\n",
    "        return np.NaN\n",
    "    else: \n",
    "        minute = str(int(time))[-2:] \n",
    "        if minute == '':\n",
    "            return np.NaN \n",
    "        else:\n",
    "            return int(minute)\n",
    "\n",
    "X_at = X[X['ArrTime'].isnull() == False]\n",
    "\n",
    "X['DepTime_Hour'] = pd.to_numeric(X['DepTime'].apply(get_hour))\n",
    "X['DepTime_Minute'] = pd.to_numeric(X['DepTime'].apply(get_min))\n",
    "X['CRSDepTime_Hour'] = pd.to_numeric(X['CRSDepTime'].apply(get_hour))\n",
    "X['CRSDepTime_Minute'] = pd.to_numeric(X['CRSDepTime'].apply(get_min))\n",
    "X['ArrTime_Hour'] = pd.to_numeric(X_at['ArrTime'].apply(get_hour))\n",
    "X['ArrTime_Minute'] = pd.to_numeric(X_at['ArrTime'].apply(get_min))\n",
    "X['CRSArrTime_Hour'] = pd.to_numeric(X['CRSArrTime'].apply(get_hour))\n",
    "X['CRSArrTime_Minute'] = pd.to_numeric(X['CRSArrTime'].apply(get_min))\n",
    "\n",
    "X.drop(['DepTime', 'CRSDepTime', 'ArrTime', 'CRSArrTime'], axis = 1, inplace = True)"
   ]
  },
  {
   "cell_type": "markdown",
   "metadata": {},
   "source": [
    "**14. (0.5 балла)** Некоторые из признаков, отличных от целевой переменной, могут оказывать чересчур значимое влияние на прогноз, поскольку по своему смыслу содержат большую долю информации о значении целевой переменной. Изучите описание датасета и исключите признаки, сильно коррелирующие с ответами. Ваш выбор признаков для исключения из выборки обоснуйте. Кроме того, исключите признаки TailNum и Year."
   ]
  },
  {
   "cell_type": "code",
   "execution_count": 23,
   "metadata": {},
   "outputs": [],
   "source": [
    "import seaborn as sns"
   ]
  },
  {
   "cell_type": "code",
   "execution_count": 24,
   "metadata": {},
   "outputs": [
    {
     "data": {
      "image/png": "[encoded data removed]",
      "text/plain": [
       "<Figure size 1080x720 with 1 Axes>"
      ]
     },
     "metadata": {
      "needs_background": "light"
     },
     "output_type": "display_data"
    }
   ],
   "source": [
    "X.drop(['TailNum', 'Year'], axis = 1, inplace = True)\n",
    "\n",
    "numeric_data = X.select_dtypes([np.number])\n",
    "numeric_data_mean = numeric_data.mean()\n",
    "numeric_features = numeric_data.columns\n",
    "\n",
    "X_f = X.fillna(numeric_data_mean)\n",
    "\n",
    "correlations = {\n",
    "    feature: np.corrcoef(X_f[feature], y)[0][1]\n",
    "    for feature in numeric_features\n",
    "}\n",
    "sorted_correlations = sorted(correlations.items(), key=lambda x: x[1], reverse=True)\n",
    "features_order = [x[0] for x in sorted_correlations]\n",
    "correlations = [x[1] for x in sorted_correlations]\n",
    "\n",
    "\n",
    "plot = sns.barplot(y = features_order, x = correlations)\n",
    "plot.figure.set_size_inches(15, 10)"
   ]
  },
  {
   "cell_type": "markdown",
   "metadata": {},
   "source": [
    "Признак `ArrDelay` сильно коррелирующий, поэтому удалим его."
   ]
  },
  {
   "cell_type": "code",
   "execution_count": 25,
   "metadata": {},
   "outputs": [],
   "source": [
    "X.drop('ArrDelay', axis = 1, inplace = True)"
   ]
  },
  {
   "cell_type": "markdown",
   "metadata": {},
   "source": [
    "**15. (1 балл)** Приведем данные к виду, пригодному для обучения линейных моделей. Для этого вещественные признаки надо отмасштабировать, а категориальные — привести к числовому виду. Также надо устранить пропуски в данных."
   ]
  },
  {
   "cell_type": "markdown",
   "metadata": {},
   "source": [
    "В первую очередь поймем, зачем необходимо применять масштабирование. Следующие ячейки с кодом построят гистограммы для 3 вещественных признаков выборки."
   ]
  },
  {
   "cell_type": "code",
   "execution_count": 26,
   "metadata": {
    "scrolled": false
   },
   "outputs": [
    {
     "data": {
      "text/plain": [
       "<AxesSubplot:>"
      ]
     },
     "execution_count": 26,
     "metadata": {},
     "output_type": "execute_result"
    },
    {
     "data": {
      "image/png": "[encoded data removed]",
      "text/plain": [
       "<Figure size 432x288 with 1 Axes>"
      ]
     },
     "metadata": {
      "needs_background": "light"
     },
     "output_type": "display_data"
    }
   ],
   "source": [
    "X['DepTime_Hour'].hist(bins=20)"
   ]
  },
  {
   "cell_type": "code",
   "execution_count": 27,
   "metadata": {},
   "outputs": [
    {
     "data": {
      "text/plain": [
       "<AxesSubplot:>"
      ]
     },
     "execution_count": 27,
     "metadata": {},
     "output_type": "execute_result"
    },
    {
     "data": {
      "image/png": "[encoded data removed]",
      "text/plain": [
       "<Figure size 432x288 with 1 Axes>"
      ]
     },
     "metadata": {
      "needs_background": "light"
     },
     "output_type": "display_data"
    }
   ],
   "source": [
    "X['TaxiIn'].hist(bins=20)"
   ]
  },
  {
   "cell_type": "code",
   "execution_count": 28,
   "metadata": {},
   "outputs": [
    {
     "data": {
      "text/plain": [
       "<AxesSubplot:>"
      ]
     },
     "execution_count": 28,
     "metadata": {},
     "output_type": "execute_result"
    },
    {
     "data": {
      "image/png": "[encoded data removed]",
      "text/plain": [
       "<Figure size 432x288 with 1 Axes>"
      ]
     },
     "metadata": {
      "needs_background": "light"
     },
     "output_type": "display_data"
    }
   ],
   "source": [
    "X['FlightNum'].hist(bins=20)"
   ]
  },
  {
   "cell_type": "markdown",
   "metadata": {},
   "source": [
    "Какую проблему вы наблюдаете на этих графиках? Как масштабирование поможет её исправить?"
   ]
  },
  {
   "cell_type": "markdown",
   "metadata": {},
   "source": [
    "Проблема: разные признаки принимают значения из отличающихся диапозонов, значения которых отличаются на порядки. \n",
    "\n",
    "Масштабирование  поможет избежать такого большого отличия в значениях признаков, уравняет их, а так же возможную значимость для модели."
   ]
  },
  {
   "cell_type": "markdown",
   "metadata": {},
   "source": [
    "Некоторые из признаков в нашем датасете являются категориальными. Типичным подходом к работе с ними является бинарное, или [one-hot-кодирование](https://en.wikipedia.org/wiki/One-hot).\n",
    "\n",
    "Реализуйте функцию transform_data, которая принимает на вход DataFrame с признаками и выполняет следующие шаги:\n",
    "1. Замена пропущенных значений на нули для вещественных признаков и на строки 'nan' для категориальных.\n",
    "2. Масштабирование вещественных признаков с помощью [StandardScaler](http://scikit-learn.org/stable/modules/generated/sklearn.preprocessing.StandardScaler.html).\n",
    "3. One-hot-кодирование категориальных признаков с помощью [DictVectorizer](http://scikit-learn.org/stable/modules/generated/sklearn.feature_extraction.DictVectorizer.html) или функции [pd.get_dummies](http://pandas.pydata.org/pandas-docs/stable/generated/pandas.get_dummies.html).\n",
    "\n",
    "Метод должен возвращать преобразованный DataFrame, который должна состоять из масштабированных вещественных признаков и закодированных категориальных (исходные признаки должны быть исключены из выборки)."
   ]
  },
  {
   "cell_type": "code",
   "execution_count": 29,
   "metadata": {},
   "outputs": [],
   "source": [
    "from sklearn.preprocessing import StandardScaler"
   ]
  },
  {
   "cell_type": "code",
   "execution_count": 30,
   "metadata": {},
   "outputs": [],
   "source": [
    "def transform_data(data):\n",
    "    # Проведем замену на 'nan' и one-hot-кодирование для категор.признаков\n",
    "    object_features = data.select_dtypes(['object']).columns\n",
    "    data[object_features] = data[object_features].fillna('nan')\n",
    "    data_object = pd.get_dummies(data[object_features])\n",
    "    \n",
    "    # Удалим исходные категориальные признаки\n",
    "    data_new = data.drop(object_features, axis = 1)\n",
    "    \n",
    "    # Проведем замену на 0 и масштабирование для веществ.признаков\n",
    "    numeric_features = data_new.select_dtypes(['float64']).columns\n",
    "    data_new[numeric_features] = data_new[numeric_features].fillna(0)\n",
    "    data_new[numeric_features] = StandardScaler().fit_transform(data_new[numeric_features])\n",
    "    \n",
    "    return pd.concat([data_new, data_object], axis = 1)"
   ]
  },
  {
   "cell_type": "markdown",
   "metadata": {},
   "source": [
    "Примените функцию transform_data к данным. Сколько признаков получилось после преобразования?"
   ]
  },
  {
   "cell_type": "code",
   "execution_count": 31,
   "metadata": {},
   "outputs": [
    {
     "data": {
      "text/html": [
       "<div>\n",
       "<style scoped>\n",
       "    .dataframe tbody tr th:only-of-type {\n",
       "        vertical-align: middle;\n",
       "    }\n",
       "\n",
       "    .dataframe tbody tr th {\n",
       "        vertical-align: top;\n",
       "    }\n",
       "\n",
       "    .dataframe thead th {\n",
       "        text-align: right;\n",
       "    }\n",
       "</style>\n",
       "<table border=\"1\" class=\"dataframe\">\n",
       "  <thead>\n",
       "    <tr style=\"text-align: right;\">\n",
       "      <th></th>\n",
       "      <th>Month</th>\n",
       "      <th>DayofMonth</th>\n",
       "      <th>DayOfWeek</th>\n",
       "      <th>FlightNum</th>\n",
       "      <th>ActualElapsedTime</th>\n",
       "      <th>CRSElapsedTime</th>\n",
       "      <th>AirTime</th>\n",
       "      <th>Distance</th>\n",
       "      <th>TaxiIn</th>\n",
       "      <th>TaxiOut</th>\n",
       "      <th>...</th>\n",
       "      <th>Dest_TYR</th>\n",
       "      <th>Dest_TYS</th>\n",
       "      <th>Dest_VLD</th>\n",
       "      <th>Dest_VPS</th>\n",
       "      <th>Dest_WRG</th>\n",
       "      <th>Dest_WYS</th>\n",
       "      <th>Dest_XNA</th>\n",
       "      <th>Dest_YAK</th>\n",
       "      <th>Dest_YKM</th>\n",
       "      <th>Dest_YUM</th>\n",
       "    </tr>\n",
       "  </thead>\n",
       "  <tbody>\n",
       "    <tr>\n",
       "      <th>0</th>\n",
       "      <td>6</td>\n",
       "      <td>18</td>\n",
       "      <td>3</td>\n",
       "      <td>242</td>\n",
       "      <td>-0.988979</td>\n",
       "      <td>-0.916826</td>\n",
       "      <td>-0.849307</td>\n",
       "      <td>307</td>\n",
       "      <td>-0.786908</td>\n",
       "      <td>-0.741204</td>\n",
       "      <td>...</td>\n",
       "      <td>0</td>\n",
       "      <td>0</td>\n",
       "      <td>0</td>\n",
       "      <td>0</td>\n",
       "      <td>0</td>\n",
       "      <td>0</td>\n",
       "      <td>0</td>\n",
       "      <td>0</td>\n",
       "      <td>0</td>\n",
       "      <td>0</td>\n",
       "    </tr>\n",
       "    <tr>\n",
       "      <th>1</th>\n",
       "      <td>6</td>\n",
       "      <td>4</td>\n",
       "      <td>3</td>\n",
       "      <td>2380</td>\n",
       "      <td>-0.040552</td>\n",
       "      <td>0.127377</td>\n",
       "      <td>0.064301</td>\n",
       "      <td>834</td>\n",
       "      <td>-0.582387</td>\n",
       "      <td>-0.389769</td>\n",
       "      <td>...</td>\n",
       "      <td>0</td>\n",
       "      <td>0</td>\n",
       "      <td>0</td>\n",
       "      <td>0</td>\n",
       "      <td>0</td>\n",
       "      <td>0</td>\n",
       "      <td>0</td>\n",
       "      <td>0</td>\n",
       "      <td>0</td>\n",
       "      <td>0</td>\n",
       "    </tr>\n",
       "    <tr>\n",
       "      <th>2</th>\n",
       "      <td>8</td>\n",
       "      <td>3</td>\n",
       "      <td>7</td>\n",
       "      <td>1769</td>\n",
       "      <td>0.157627</td>\n",
       "      <td>0.370547</td>\n",
       "      <td>0.314806</td>\n",
       "      <td>997</td>\n",
       "      <td>-0.582387</td>\n",
       "      <td>-0.653345</td>\n",
       "      <td>...</td>\n",
       "      <td>0</td>\n",
       "      <td>0</td>\n",
       "      <td>0</td>\n",
       "      <td>0</td>\n",
       "      <td>0</td>\n",
       "      <td>0</td>\n",
       "      <td>0</td>\n",
       "      <td>0</td>\n",
       "      <td>0</td>\n",
       "      <td>0</td>\n",
       "    </tr>\n",
       "    <tr>\n",
       "      <th>3</th>\n",
       "      <td>1</td>\n",
       "      <td>23</td>\n",
       "      <td>3</td>\n",
       "      <td>3802</td>\n",
       "      <td>-0.351976</td>\n",
       "      <td>-0.258835</td>\n",
       "      <td>-0.363032</td>\n",
       "      <td>532</td>\n",
       "      <td>-0.582387</td>\n",
       "      <td>0.225242</td>\n",
       "      <td>...</td>\n",
       "      <td>0</td>\n",
       "      <td>0</td>\n",
       "      <td>0</td>\n",
       "      <td>0</td>\n",
       "      <td>0</td>\n",
       "      <td>0</td>\n",
       "      <td>0</td>\n",
       "      <td>0</td>\n",
       "      <td>0</td>\n",
       "      <td>0</td>\n",
       "    </tr>\n",
       "    <tr>\n",
       "      <th>4</th>\n",
       "      <td>5</td>\n",
       "      <td>4</td>\n",
       "      <td>7</td>\n",
       "      <td>399</td>\n",
       "      <td>0.299183</td>\n",
       "      <td>0.442068</td>\n",
       "      <td>0.476898</td>\n",
       "      <td>1090</td>\n",
       "      <td>-0.582387</td>\n",
       "      <td>-0.741204</td>\n",
       "      <td>...</td>\n",
       "      <td>0</td>\n",
       "      <td>0</td>\n",
       "      <td>0</td>\n",
       "      <td>0</td>\n",
       "      <td>0</td>\n",
       "      <td>0</td>\n",
       "      <td>0</td>\n",
       "      <td>0</td>\n",
       "      <td>0</td>\n",
       "      <td>0</td>\n",
       "    </tr>\n",
       "  </tbody>\n",
       "</table>\n",
       "<p>5 rows × 632 columns</p>\n",
       "</div>"
      ],
      "text/plain": [
       "   Month  DayofMonth  DayOfWeek  FlightNum  ActualElapsedTime  CRSElapsedTime  \\\n",
       "0      6          18          3        242          -0.988979       -0.916826   \n",
       "1      6           4          3       2380          -0.040552        0.127377   \n",
       "2      8           3          7       1769           0.157627        0.370547   \n",
       "3      1          23          3       3802          -0.351976       -0.258835   \n",
       "4      5           4          7        399           0.299183        0.442068   \n",
       "\n",
       "    AirTime  Distance    TaxiIn   TaxiOut  ...  Dest_TYR  Dest_TYS  Dest_VLD  \\\n",
       "0 -0.849307       307 -0.786908 -0.741204  ...         0         0         0   \n",
       "1  0.064301       834 -0.582387 -0.389769  ...         0         0         0   \n",
       "2  0.314806       997 -0.582387 -0.653345  ...         0         0         0   \n",
       "3 -0.363032       532 -0.582387  0.225242  ...         0         0         0   \n",
       "4  0.476898      1090 -0.582387 -0.741204  ...         0         0         0   \n",
       "\n",
       "   Dest_VPS  Dest_WRG  Dest_WYS  Dest_XNA  Dest_YAK  Dest_YKM  Dest_YUM  \n",
       "0         0         0         0         0         0         0         0  \n",
       "1         0         0         0         0         0         0         0  \n",
       "2         0         0         0         0         0         0         0  \n",
       "3         0         0         0         0         0         0         0  \n",
       "4         0         0         0         0         0         0         0  \n",
       "\n",
       "[5 rows x 632 columns]"
      ]
     },
     "execution_count": 31,
     "metadata": {},
     "output_type": "execute_result"
    }
   ],
   "source": [
    "df_transform = X.copy(deep = True)\n",
    "df_transform = transform_data(df_transform)\n",
    "df_transform.head()"
   ]
  },
  {
   "cell_type": "markdown",
   "metadata": {},
   "source": [
    "**16. (0.5 балла)** Разбейте выборку и вектор целевой переменной на обучение и контроль в отношении 70/30 (для этого можно использовать, например, функцию [train_test_split](http://scikit-learn.org/stable/modules/generated/sklearn.cross_validation.train_test_split.html)). "
   ]
  },
  {
   "cell_type": "code",
   "execution_count": 32,
   "metadata": {},
   "outputs": [],
   "source": [
    "from sklearn.model_selection import train_test_split\n",
    "df_transform = np.array(df_transform)\n",
    "XX_train, XX_test, yy_train, yy_test = train_test_split(df_transform, y, test_size=0.3, random_state=10)"
   ]
  },
  {
   "cell_type": "markdown",
   "metadata": {},
   "source": [
    "### Scikit-learn\n",
    "\n",
    "<img src = \"https://pp.vk.me/c4534/u35727827/93547647/x_d31c4463.jpg\">\n",
    "Теперь, когда мы привели данные к пригодному виду, попробуем решить задачу при помощи метода наименьших квадратов. Напомним, что данный метод заключается в оптимизации функционала $MSE$:\n",
    "\n",
    "$$MSE(X, y) = \\frac{1}{l} \\sum_{i=1}^l (<w, x_i> - y_i)^2 \\to \\min_{w},$$\n",
    "\n",
    "где $\\{ (x_i, y_i ) \\}_{i=1}^l$ — обучающая выборка, состоящая из $l$ пар объект-ответ.\n",
    "\n",
    "Заметим, что решение данной задачи уже реализовано в модуле sklearn в виде класса [LinearRegression](http://scikit-learn.org/stable/modules/generated/sklearn.linear_model.LinearRegression.html#sklearn.linear_model.LinearRegression).\n",
    "\n",
    "**17. (0.5 балла)** Обучите линейную регрессию на 1000 объектах из обучающей выборки и выведите значения $MSE$ и $R^2$ на этой подвыборке и контрольной выборке (итого 4 различных числа). Проинтерпретируйте полученный результат — насколько качественные прогнозы строит полученная модель? Какие проблемы наблюдаются в модели?\n",
    "\n",
    "**Подсказка**: изучите значения полученных коэффициентов $w$, сохраненных в атрибуте coef_ объекта LinearRegression."
   ]
  },
  {
   "cell_type": "code",
   "execution_count": 33,
   "metadata": {},
   "outputs": [],
   "source": [
    "from sklearn.linear_model import LinearRegression\n",
    "from sklearn.metrics import mean_absolute_error, mean_squared_error\n",
    "from sklearn.metrics import r2_score"
   ]
  },
  {
   "cell_type": "code",
   "execution_count": 34,
   "metadata": {},
   "outputs": [
    {
     "name": "stdout",
     "output_type": "stream",
     "text": [
      "MSE для подвыборки: 453.188\n",
      "R2 для подвыборки: 0.5789\n",
      "MSE для контрольной выборки: 2035.6866\n",
      "R2 для контрольной выборки: -0.5569\n"
     ]
    }
   ],
   "source": [
    "regression_model = LinearRegression().fit(XX_train[0:1000], yy_train[0:1000])\n",
    "\n",
    "yy_train_pred = regression_model.predict(XX_train[0:1000])\n",
    "print('MSE для подвыборки:',\n",
    "      round(mean_squared_error(yy_train[0:1000], yy_train_pred), 4))\n",
    "print('R2 для подвыборки:',\n",
    "      round(r2_score(yy_train[0:1000], yy_train_pred), 4))\n",
    "\n",
    "yy_test_pred = regression_model.predict(XX_test)\n",
    "print('MSE для контрольной выборки:',\n",
    "      round(mean_squared_error(yy_test, yy_test_pred), 4))\n",
    "print('R2 для контрольной выборки:',\n",
    "      round(r2_score(yy_test, yy_test_pred), 4))"
   ]
  },
  {
   "cell_type": "code",
   "execution_count": 35,
   "metadata": {},
   "outputs": [
    {
     "data": {
      "text/plain": [
       "array([ 5.60618549e-01, -2.49070967e-03,  1.68293152e-01, -3.15270443e-04,\n",
       "        7.32711404e+00, -1.78054159e+01,  7.60440150e+00,  4.99455861e-03,\n",
       "        4.56163623e-01, -5.93261899e-02,  1.20955369e+02,  4.03795699e-01,\n",
       "       -1.13270233e+02, -4.33508176e-01, -7.57588402e+00, -1.01540484e+00,\n",
       "        5.78326655e+00,  2.74626097e-02, -1.58209927e+00,  1.00775297e+00,\n",
       "       -9.04945112e-02,  1.94323484e+00,  2.28076912e+01,  1.46701802e+00,\n",
       "       -4.52529377e+00, -1.24056207e+00,  3.47839177e+00, -5.72803501e+00,\n",
       "        3.77451660e+00,  3.73123005e+00, -9.48653278e+00, -4.66460397e+01,\n",
       "        8.73760676e-02,  3.23671562e+00,  6.31596623e-01,  5.13815778e+00,\n",
       "        1.32800268e+01,  8.71534880e+00, -9.45253293e+00,  1.01252340e-13,\n",
       "       -3.19094430e+00,  4.08562073e-14,  1.77635684e-14,  3.64153152e-14,\n",
       "        0.00000000e+00,  9.59232693e-14,  4.26325641e-14,  1.24344979e-14,\n",
       "        5.10702591e-14, -1.59872116e-14,  4.97379915e-14, -1.17857686e+01,\n",
       "        4.26325641e-14,  1.16403129e+00, -1.38771550e+00, -9.94759830e-14,\n",
       "        1.35668025e+01,  1.27897692e-13,  6.90946921e+00,  4.63534554e+00,\n",
       "        5.68434189e-14, -2.48689958e-14, -3.87037580e+00, -7.10542736e-15,\n",
       "       -5.68434189e-14,  7.10542736e-15,  7.10542736e-14, -7.12820846e+00,\n",
       "        2.84217094e-14,  5.32907052e-14,  1.65964329e+00, -1.29101508e+00,\n",
       "       -4.31776023e-01, -6.17437502e+00,  5.19504514e+00, -4.26325641e-14,\n",
       "        7.10542736e-15, -9.23705556e-14,  5.68434189e-14, -5.68434189e-14,\n",
       "        5.09683991e+00,  1.42108547e-14, -3.65757103e+00,  3.09814495e+00,\n",
       "       -5.75037603e-01, -7.10542736e-15, -1.14722007e+01, -7.75124786e+00,\n",
       "        0.00000000e+00, -2.84217094e-14,  7.10542736e-15, -9.76996262e-15,\n",
       "       -7.10542736e-14,  3.54652038e+00, -9.56784531e-02,  2.72586011e-01,\n",
       "        7.81597009e-14,  3.65707918e+00,  7.06101844e-14,  4.16525154e+00,\n",
       "        4.83114353e+00,  0.00000000e+00, -7.10542736e-15, -7.81597009e-14,\n",
       "        6.90750024e-02,  8.61533067e-14, -4.61852778e-14, -3.37507799e-14,\n",
       "       -1.22553752e+01,  3.42241294e+01,  8.52651283e-14, -7.66497538e+00,\n",
       "        1.35762416e-01, -1.18258107e+00, -6.03961325e-14, -1.73397812e+00,\n",
       "        3.40958792e+00,  1.02604092e+00, -2.84217094e-14, -7.10542736e-15,\n",
       "       -1.51580468e+01,  1.87725968e+00,  9.08616102e+00,  7.81597009e-14,\n",
       "       -2.50818385e+00,  2.13162821e-14, -3.97949890e+00, -2.66453526e-14,\n",
       "        2.93098879e-14,  4.61852778e-14, -2.13162821e-14, -5.58183102e-01,\n",
       "       -2.13162821e-14,  0.00000000e+00,  7.10542736e-15,  7.50179618e+00,\n",
       "        7.10542736e-15,  0.00000000e+00,  0.00000000e+00, -9.42451264e+00,\n",
       "       -7.10542736e-15,  1.06581410e-14,  3.48287937e+00, -2.13162821e-14,\n",
       "        2.66453526e-14,  1.24344979e-14, -1.67931191e+00,  1.24344979e-14,\n",
       "        2.66453526e-14, -7.10542736e-15,  1.24344979e-14, -9.77879558e+00,\n",
       "        1.42108547e-14, -2.43178094e+00, -1.27327906e+01,  2.12081069e+01,\n",
       "        1.58771199e+01,  5.32907052e-15,  2.66453526e-15,  3.55271368e-15,\n",
       "       -9.19339091e+00,  3.10862447e-15, -2.88657986e-14,  3.55271368e-14,\n",
       "       -1.48915751e+01,  5.60987839e+00, -1.71656555e+01,  3.55271368e-14,\n",
       "       -2.35075307e+00,  7.10542736e-15,  1.03482491e+00,  1.35975209e+00,\n",
       "        1.06176110e+00, -4.44089210e-14,  2.13381472e+01,  1.37724457e+01,\n",
       "       -1.55431223e-14, -6.21724894e-15, -9.52286851e+00,  1.59872116e-14,\n",
       "        5.32907052e-15, -2.84217094e-14, -7.10542736e-15, -2.02765543e+00,\n",
       "       -1.91561606e+00,  1.60699735e+00, -2.84488940e+00, -3.00757808e+01,\n",
       "       -8.94865798e+00,  0.00000000e+00,  9.28833649e-01, -4.92335695e+00,\n",
       "        9.72804611e-01,  3.69077110e+01, -5.68434189e-14,  2.84217094e-14,\n",
       "       -1.28504635e+01,  1.30274629e+00, -2.50319267e+01, -1.50509356e+01,\n",
       "        4.34712059e+00,  3.01980663e-14,  0.00000000e+00, -2.84217094e-14,\n",
       "       -2.28690189e+00,  2.48689958e-14, -1.77635684e-15,  1.42108547e-14,\n",
       "        1.42108547e-14, -3.55271368e-15, -2.19059155e+00,  0.00000000e+00,\n",
       "       -1.52481587e+00,  6.66133815e-16, -3.12690038e+00, -7.10542736e-15,\n",
       "        8.11202001e+00,  0.00000000e+00,  5.17726717e+00, -1.00011975e+01,\n",
       "        6.45821804e+00, -5.81577098e+00, -9.30527217e-01, -2.84217094e-14,\n",
       "       -5.68434189e-14, -5.32907052e-15, -3.55271368e-15,  2.02368216e+01,\n",
       "       -2.13162821e-14, -2.84217094e-14, -1.06581410e-14, -2.13162821e-14,\n",
       "        2.82494010e+01, -1.42108547e-14,  9.71242442e+00,  2.65030236e+00,\n",
       "       -2.13162821e-14,  3.84307924e+00,  1.06581410e-14,  2.06984376e+00,\n",
       "       -1.80974713e+01, -3.29155182e+00,  1.04696431e+01,  6.88831793e+00,\n",
       "        2.04086245e+00,  7.83555214e+00,  3.46739340e+01, -2.13162821e-14,\n",
       "        1.42108547e-14, -1.06581410e-14, -5.78969165e+00,  1.08382116e+01,\n",
       "       -2.13162821e-14, -3.63823098e+00,  7.43649302e+00,  8.35043572e-02,\n",
       "        7.82707232e-15, -8.88178420e-15,  2.51455272e+01, -5.32907052e-15,\n",
       "       -2.30926389e-14, -1.73541210e+01,  2.13162821e-14,  0.00000000e+00,\n",
       "       -2.48689958e-14,  3.12971299e+00,  9.39787750e+00, -3.55271368e-14,\n",
       "        5.73897467e-01, -1.59872116e-14, -7.10542736e-15, -3.68759316e+00,\n",
       "        1.06581410e-14,  1.39888101e-14, -1.62817256e+01, -1.77635684e-15,\n",
       "       -5.67150824e+00, -7.10542736e-15,  2.13162821e-14, -9.80485600e+00,\n",
       "        3.55271368e-15, -6.27405702e+00, -2.44938458e+00, -1.71763042e+00,\n",
       "        1.63861722e+01, -3.83890501e+00,  1.06581410e-14, -7.95638039e+00,\n",
       "       -1.42108547e-14,  7.10542736e-15,  5.35650433e+00,  4.46507188e+00,\n",
       "       -3.62034397e+00,  8.38049117e+00, -7.10542736e-15,  1.07068895e+01,\n",
       "       -8.88178420e-15, -4.64544861e+00, -9.94858519e+00,  1.30556190e+01,\n",
       "        6.96332349e+00, -2.48689958e-14, -7.08384090e+00,  2.13162821e-14,\n",
       "       -1.65787274e+00,  7.10542736e-15,  7.10542736e-15, -2.63471434e+00,\n",
       "        1.72738253e+00, -8.86073109e+00, -6.00998414e-25, -8.05370186e-25,\n",
       "        5.46876245e-25, -1.04690046e-24, -1.06494665e+01,  8.25565025e-25,\n",
       "       -1.92547815e+00, -1.17813588e+01,  4.45841134e+00,  4.63269611e-25,\n",
       "       -5.21269034e+00, -4.85028285e+00, -1.04205370e-24,  1.65436123e-24,\n",
       "       -1.55419482e-24, -7.20387779e-27, -5.43314894e+00,  4.33381249e-25,\n",
       "       -3.25121823e+00, -6.35445049e+00,  1.35798487e+01, -5.46671969e-25,\n",
       "       -1.60952868e-25, -1.02560387e+01,  5.20621368e-25,  6.75315422e-25,\n",
       "        1.90893010e+01,  2.02628187e-26, -1.68344179e-24, -2.90805684e-25,\n",
       "        5.48364363e-26,  9.97625055e-26,  5.16987883e-26, -1.99099667e-25,\n",
       "       -8.13778441e+00,  0.00000000e+00,  6.78420378e-29,  0.00000000e+00,\n",
       "        0.00000000e+00, -6.53274279e+00,  0.00000000e+00,  6.49124242e+00,\n",
       "       -1.75980045e+01, -1.89050336e+00, -5.09892775e+00, -1.13448074e+01,\n",
       "        0.00000000e+00,  8.74260127e+00,  0.00000000e+00, -1.95256007e+01,\n",
       "        0.00000000e+00,  0.00000000e+00, -2.76017280e+00,  0.00000000e+00,\n",
       "       -1.11974611e+01,  0.00000000e+00,  0.00000000e+00, -1.91876637e+01,\n",
       "       -6.39887366e+00, -7.57748566e+00, -3.38905304e+00,  0.00000000e+00,\n",
       "        0.00000000e+00,  0.00000000e+00,  0.00000000e+00,  0.00000000e+00,\n",
       "        0.00000000e+00, -1.04450874e+01,  3.77264666e+02, -7.60041453e+00,\n",
       "       -9.43048992e+00,  2.62216758e+00, -7.17998029e+00, -5.49703982e+00,\n",
       "        0.00000000e+00,  0.00000000e+00,  1.36929816e+00,  0.00000000e+00,\n",
       "       -5.30022555e+00,  0.00000000e+00,  0.00000000e+00,  0.00000000e+00,\n",
       "        1.39375651e+01, -8.93568573e+00,  8.86657330e-01,  0.00000000e+00,\n",
       "       -8.19853414e+00,  1.27411857e+01,  0.00000000e+00,  0.00000000e+00,\n",
       "        0.00000000e+00,  0.00000000e+00,  0.00000000e+00,  0.00000000e+00,\n",
       "       -8.19878514e+00, -1.56125589e+01,  1.10761324e+00,  0.00000000e+00,\n",
       "        0.00000000e+00, -1.29206362e+01, -8.45585170e+00,  0.00000000e+00,\n",
       "        1.10850687e+00, -2.60488126e+00, -5.42878261e+00,  0.00000000e+00,\n",
       "       -9.80453634e+00,  0.00000000e+00,  0.00000000e+00, -4.24457759e+00,\n",
       "        8.06768178e+00,  0.00000000e+00, -1.24905721e+01,  0.00000000e+00,\n",
       "       -1.99290098e+00,  0.00000000e+00, -5.24199921e+00,  0.00000000e+00,\n",
       "        0.00000000e+00,  1.47191314e+01,  0.00000000e+00,  4.25409813e+00,\n",
       "       -5.85185491e+00, -1.01672278e+01, -2.77405101e+01,  0.00000000e+00,\n",
       "        0.00000000e+00, -7.31011304e+00,  0.00000000e+00,  0.00000000e+00,\n",
       "        0.00000000e+00,  0.00000000e+00,  0.00000000e+00,  0.00000000e+00,\n",
       "       -1.53928459e+01, -1.49474323e+01,  0.00000000e+00,  0.00000000e+00,\n",
       "        0.00000000e+00,  1.42816363e+01,  0.00000000e+00, -1.47569667e+01,\n",
       "       -5.53695438e+00,  2.17573536e+00,  2.82795738e+01,  0.00000000e+00,\n",
       "        0.00000000e+00,  0.00000000e+00,  0.00000000e+00,  0.00000000e+00,\n",
       "        0.00000000e+00,  0.00000000e+00,  7.78688585e+00,  1.40435517e+00,\n",
       "       -1.24740255e+01, -1.14371098e+01,  1.34816255e+01,  0.00000000e+00,\n",
       "        1.10880224e+01, -4.77297781e+00, -2.80180725e+00,  0.00000000e+00,\n",
       "        0.00000000e+00,  8.31489598e-01,  0.00000000e+00,  0.00000000e+00,\n",
       "       -3.67961213e-01,  0.00000000e+00,  0.00000000e+00,  0.00000000e+00,\n",
       "       -6.86645816e+00, -1.13114978e+01, -1.34546295e+01,  4.50844255e+00,\n",
       "       -6.09928168e+00,  5.37962752e+00, -6.35445049e+00,  0.00000000e+00,\n",
       "        8.66601846e-01,  0.00000000e+00, -3.10478767e+00,  8.49324420e+00,\n",
       "        0.00000000e+00,  9.16826528e+01,  0.00000000e+00,  3.68058996e+00,\n",
       "       -2.37571529e+01,  8.75339552e+00, -1.98096439e+00,  0.00000000e+00,\n",
       "        4.24979762e+01,  0.00000000e+00,  0.00000000e+00,  0.00000000e+00,\n",
       "        0.00000000e+00,  1.53539398e+01,  5.17944623e+00,  1.99146201e+01,\n",
       "       -1.55187276e+00,  0.00000000e+00,  3.36191300e-01,  2.22977373e+00,\n",
       "        1.38517991e+00, -1.73119641e+01, -9.57148026e+00, -1.12712185e+01,\n",
       "        0.00000000e+00,  0.00000000e+00,  2.45884621e+01, -4.13467588e+00,\n",
       "       -1.12307137e+01,  0.00000000e+00,  0.00000000e+00,  0.00000000e+00,\n",
       "       -2.33688359e+01, -1.24860547e+01,  0.00000000e+00,  0.00000000e+00,\n",
       "        0.00000000e+00, -2.12173995e+01, -4.98500244e+00,  0.00000000e+00,\n",
       "        2.40842738e+00, -1.17266587e+01,  0.00000000e+00, -1.09051795e+01,\n",
       "        0.00000000e+00,  1.43398060e+01,  1.41997563e+00, -1.09370497e+01,\n",
       "       -1.15396489e+00,  0.00000000e+00,  3.36990126e-01,  3.54903819e+00,\n",
       "       -2.85807095e+00,  0.00000000e+00,  0.00000000e+00,  0.00000000e+00,\n",
       "       -7.90446390e+00, -2.03952926e+00,  0.00000000e+00,  0.00000000e+00,\n",
       "       -1.16629852e+00, -2.53612847e+00,  4.56373303e+00,  0.00000000e+00,\n",
       "       -9.32547880e+00,  0.00000000e+00,  0.00000000e+00,  0.00000000e+00,\n",
       "        0.00000000e+00,  0.00000000e+00,  0.00000000e+00, -1.10612945e+01,\n",
       "       -6.78364668e+00,  2.91283781e+00,  0.00000000e+00,  0.00000000e+00,\n",
       "       -9.81663974e-01, -4.27037535e+00,  0.00000000e+00,  0.00000000e+00,\n",
       "       -1.69643099e+01,  0.00000000e+00, -9.77072752e+00,  0.00000000e+00,\n",
       "       -1.11559679e+01,  0.00000000e+00,  0.00000000e+00, -1.47687418e+01,\n",
       "       -5.67461454e+00, -5.23429776e+00, -9.19503862e+00, -3.95706979e+00,\n",
       "       -2.16698920e+01, -8.76852861e+00,  0.00000000e+00,  0.00000000e+00,\n",
       "       -3.21168835e+00,  9.86653528e-01, -3.51870363e+00, -9.48552495e+00,\n",
       "       -4.97732640e+00,  0.00000000e+00,  0.00000000e+00, -4.33798834e+00,\n",
       "        0.00000000e+00, -7.08010156e+00, -1.61430191e-01,  0.00000000e+00,\n",
       "       -3.15440023e+00,  0.00000000e+00, -4.07171329e+00,  0.00000000e+00,\n",
       "        0.00000000e+00, -5.62605131e+00, -8.34428718e+00,  0.00000000e+00,\n",
       "        0.00000000e+00,  0.00000000e+00,  0.00000000e+00,  0.00000000e+00,\n",
       "        0.00000000e+00, -1.17508029e+01, -1.59426107e+01, -9.34126991e+00,\n",
       "        0.00000000e+00, -1.49155023e+01, -1.20038742e+01, -4.40345879e+00,\n",
       "        0.00000000e+00,  0.00000000e+00,  0.00000000e+00,  1.60796011e+01,\n",
       "        0.00000000e+00,  9.13718312e+01,  0.00000000e+00,  0.00000000e+00,\n",
       "       -1.84510608e+01,  0.00000000e+00,  0.00000000e+00,  8.75555904e-01])"
      ]
     },
     "execution_count": 35,
     "metadata": {},
     "output_type": "execute_result"
    }
   ],
   "source": [
    "regression_model.coef_"
   ]
  },
  {
   "cell_type": "markdown",
   "metadata": {
    "collapsed": true
   },
   "source": [
    "Для решения описанных вами в предыдущем пункте проблем используем L1- или L2-регуляризацию, тем самым получив Lasso и Ridge регрессии соответственно и изменив оптимизационную задачу одним из следующих образов:\n",
    "$$MSE_{L1}(X, y) = \\frac{1}{l} \\sum_{i=1}^l (<w, x_i> - y_i)^2 + \\alpha ||w||_1 \\to \\min_{w},$$\n",
    "$$MSE_{L2}(X, y) = \\frac{1}{l} \\sum_{i=1}^l (<w, x_i> - y_i)^2 + \\alpha ||w||_2^2 \\to \\min_{w},$$\n",
    "\n",
    "где $\\alpha$ — коэффициент регуляризации. Один из способов его подбора заключается в переборе некоторого количества значений и оценке качества на кросс-валидации для каждого из них, после чего выбирается значение, для которого было получено наилучшее качество."
   ]
  },
  {
   "cell_type": "code",
   "execution_count": 36,
   "metadata": {},
   "outputs": [],
   "source": [
    "%matplotlib inline  \n",
    "import matplotlib.pyplot as plt"
   ]
  },
  {
   "cell_type": "markdown",
   "metadata": {},
   "source": [
    "__18. (1 балл) __ Обучение линейной регрессии.\n",
    "\n",
    "\n",
    "\n",
    "Обучите линейную регрессию с $L_1$ (Lasso) и $L_2$ (Ridge) регуляризаторами (используйте параметры по умолчанию). Посмотрите, какое количество коэффициентов близко к 0 (степень близости к 0 определите сами из разумных пределов). Постройте график зависимости числа ненулевых коэффициентов от коэффицента регуляризации (перебирайте значения по логарифмической сетке от $10^{-3}$ до $10^3$). Согласуются ли результаты с вашими ожиданиями?"
   ]
  },
  {
   "cell_type": "code",
   "execution_count": 37,
   "metadata": {},
   "outputs": [
    {
     "name": "stdout",
     "output_type": "stream",
     "text": [
      "Количество коэффициентов, близких к 0 для регрессии Lasso: 621\n",
      "Количество коэффициентов, близких к 0 для регрессии Rigde: 296\n"
     ]
    }
   ],
   "source": [
    "from sklearn.linear_model import Lasso, Ridge\n",
    "lasso = Lasso().fit(XX_train[0:1000], yy_train[0:1000])\n",
    "ridge = Ridge().fit(XX_train[0:1000], yy_train[0:1000])\n",
    "\n",
    "print('Количество коэффициентов, близких к 0 для регрессии Lasso:', \n",
    "      np.sum(lasso.coef_ == 0))\n",
    "print('Количество коэффициентов, близких к 0 для регрессии Rigde:', \n",
    "      np.sum(ridge.coef_ == 0))"
   ]
  },
  {
   "cell_type": "code",
   "execution_count": 38,
   "metadata": {},
   "outputs": [
    {
     "name": "stderr",
     "output_type": "stream",
     "text": [
      "C:\\Users\\Aegis\\anaconda3\\lib\\site-packages\\sklearn\\linear_model\\_coordinate_descent.py:647: ConvergenceWarning: Objective did not converge. You might want to increase the number of iterations, check the scale of the features or consider increasing regularisation. Duality gap: 2.164e+07, tolerance: 5.751e+03\n",
      "  model = cd_fast.enet_coordinate_descent(\n",
      "C:\\Users\\Aegis\\anaconda3\\lib\\site-packages\\sklearn\\linear_model\\_coordinate_descent.py:647: ConvergenceWarning: Objective did not converge. You might want to increase the number of iterations, check the scale of the features or consider increasing regularisation. Duality gap: 3.241e+05, tolerance: 5.751e+03\n",
      "  model = cd_fast.enet_coordinate_descent(\n",
      "C:\\Users\\Aegis\\anaconda3\\lib\\site-packages\\sklearn\\linear_model\\_coordinate_descent.py:647: ConvergenceWarning: Objective did not converge. You might want to increase the number of iterations, check the scale of the features or consider increasing regularisation. Duality gap: 1.890e+07, tolerance: 5.751e+03\n",
      "  model = cd_fast.enet_coordinate_descent(\n"
     ]
    },
    {
     "data": {
      "image/png": "[encoded data removed]",
      "text/plain": [
       "<Figure size 720x360 with 2 Axes>"
      ]
     },
     "metadata": {
      "needs_background": "light"
     },
     "output_type": "display_data"
    }
   ],
   "source": [
    "import matplotlib.pyplot as plt\n",
    "\n",
    "alphas = np.logspace(-3, 3, 20)\n",
    "\n",
    "lasso_zeros = list()\n",
    "ridge_zeros = list()\n",
    "\n",
    "for i in range(len(alphas)):\n",
    "    model_lasso = Lasso(alphas[i]).fit(XX_train, yy_train)\n",
    "    model_ridge = Ridge(alphas[i]).fit(XX_train, yy_train)\n",
    "    lasso_zeros.append(np.sum(model_lasso.coef_ != 0))\n",
    "    ridge_zeros.append(np.sum(model_ridge.coef_ != 0))\n",
    "\n",
    "fig, ax = plt.subplots(1, 2, figsize = (10, 5))\n",
    "\n",
    "ax[0].plot(alphas, lasso_zeros)\n",
    "ax[0].set_xscale('log')\n",
    "ax[0].set_title('Lasso-регуляризация')\n",
    "ax[0].set_xlabel('alpha')\n",
    "ax[0].set_ylabel('Кол-во нулевых коэффициентов')\n",
    "\n",
    "ax[1].plot(alphas, ridge_zeros)\n",
    "ax[1].set_xscale('log')\n",
    "ax[1].set_title('Ridge-регуляризация')\n",
    "ax[1].set_xlabel('alpha')\n",
    "ax[1].set_ylabel('Кол-во нулевых коэффициентов')\n",
    "\n",
    "plt.show()"
   ]
  },
  {
   "cell_type": "markdown",
   "metadata": {},
   "source": [
    "Посчитайте для Ridge-регрессии следующие метрики: $RMSE$, $MAE$, $R^2$."
   ]
  },
  {
   "cell_type": "code",
   "execution_count": 39,
   "metadata": {},
   "outputs": [],
   "source": [
    "from sklearn.metrics import make_scorer"
   ]
  },
  {
   "cell_type": "code",
   "execution_count": 40,
   "metadata": {
    "scrolled": true
   },
   "outputs": [
    {
     "name": "stdout",
     "output_type": "stream",
     "text": [
      "RMSE: 39.4383\n",
      "MAE: 16.5869\n",
      "R^2: 0.10479117684535166\n"
     ]
    }
   ],
   "source": [
    "def rmse(y_true, y_pred):\n",
    "    error = (y_true - y_pred) ** 2\n",
    "    return np.sqrt(np.mean(error))\n",
    "rmse_scorer = make_scorer(\n",
    "    rmse,\n",
    "    greater_is_better=False\n",
    ")\n",
    "\n",
    "\n",
    "def show_metrics(X_train, y_train, X_test, y_test, alpha = 1.0):\n",
    "    ridge_model = Ridge(alpha = alpha)\n",
    "    ridge_model.fit(X_train, y_train)\n",
    "    y_test_pred = ridge.predict(X_test)\n",
    "    print(\"RMSE:\", round(mean_squared_error(y_test, y_test_pred, squared = False), 4))\n",
    "    print(\"MAE:\", round(mean_absolute_error(y_test, y_test_pred), 4))\n",
    "    print(\"R^2:\", ridge_model.score(X_test, y_test))\n",
    "    \n",
    "show_metrics(XX_train, yy_train, XX_test, yy_test)    "
   ]
  },
  {
   "cell_type": "markdown",
   "metadata": {},
   "source": [
    "Подберите на обучающей выборке для Ridge-регрессии коэффициент регуляризации (перебирайте значения по логарифмической сетке от $10^{-3}$ до $10^3$) для каждой из метрик при помощи кросс-валидации c 5 фолдами на тех же 1000 объектах. Для этого воспользуйтесь GridSearchCV и KFold из sklearn. Постройте графики зависимости фукнции потерь от коэффициента регуляризации. Посчитайте те же метрики снова. Заметно ли изменилось качество?\n",
    "\n",
    "Для выполнения данного задания вам могут понадобиться реализованные в библиотеке объекты [LassoCV](http://scikit-learn.org/stable/modules/generated/sklearn.linear_model.LassoCV.html), [RidgeCV](http://scikit-learn.org/stable/modules/generated/sklearn.linear_model.RidgeCV.html) и [KFold](http://scikit-learn.org/stable/modules/generated/sklearn.cross_validation.KFold.html)."
   ]
  },
  {
   "cell_type": "code",
   "execution_count": 41,
   "metadata": {},
   "outputs": [],
   "source": [
    "from sklearn.model_selection import GridSearchCV"
   ]
  },
  {
   "cell_type": "code",
   "execution_count": 42,
   "metadata": {},
   "outputs": [
    {
     "name": "stdout",
     "output_type": "stream",
     "text": [
      "Best alpha RMSE: 26.366508987303554, \n",
      "Best alpha MAE: 0.001, \n",
      "Best alpha R2: 26.366508987303554\n"
     ]
    },
    {
     "data": {
      "image/png": "[encoded data removed]",
      "text/plain": [
       "<Figure size 720x360 with 1 Axes>"
      ]
     },
     "metadata": {
      "needs_background": "light"
     },
     "output_type": "display_data"
    }
   ],
   "source": [
    "searcher_RMSE = GridSearchCV(Ridge(), [{\"alpha\": alphas}], scoring=rmse_scorer, cv=5).fit(XX_train[0:1000], yy_train[0:1000])\n",
    "searcher_MAE = GridSearchCV(Ridge(), [{\"alpha\": alphas}], scoring='neg_mean_absolute_error', cv=5).fit(XX_train[0:1000], yy_train[0:1000])\n",
    "searcher_R2 = GridSearchCV(Ridge(), [{\"alpha\": alphas}], scoring='r2', cv=5)\\\n",
    "                            .fit(XX_train[0:1000], yy_train[0:1000])\n",
    "\n",
    "best_alpha_RMSE = searcher_RMSE.best_params_[\"alpha\"]\n",
    "best_alpha_MAE = searcher_MAE.best_params_[\"alpha\"]\n",
    "best_alpha_R2 = searcher_R2.best_params_[\"alpha\"]\n",
    "\n",
    "print('Best alpha RMSE: {}, \\nBest alpha MAE: {}, \\nBest alpha R2: {}'\n",
    "      .format(best_alpha_RMSE, best_alpha_MAE, best_alpha_R2))\n",
    "\n",
    "fig = plt.figure(figsize=(10, 5))\n",
    "plt.plot(alphas, -searcher_RMSE.cv_results_[\"mean_test_score\"], label='RMSE')\n",
    "plt.plot(alphas, -searcher_MAE.cv_results_[\"mean_test_score\"], label='MAE')\n",
    "plt.plot(alphas, -searcher_R2.cv_results_[\"mean_test_score\"],label='R2')\n",
    "\n",
    "fig.suptitle(\"График зависимости функции потерь от коэффициента регуляризации\", fontsize=15)\n",
    "plt.xscale(\"log\")\n",
    "plt.xlabel(\"Коэффициент регуляризации\")\n",
    "plt.ylabel(\"Функция потерь\")\n",
    "plt.grid()\n",
    "plt.legend()\n",
    "plt.show()"
   ]
  },
  {
   "cell_type": "code",
   "execution_count": 43,
   "metadata": {},
   "outputs": [
    {
     "name": "stdout",
     "output_type": "stream",
     "text": [
      "RMSE = 34.5506\n",
      "MAE = 16.7306\n",
      "R2 = 0.087\n"
     ]
    }
   ],
   "source": [
    "model_R_RMSE = Ridge(best_alpha_RMSE).fit(XX_train[0:1000], yy_train[0:1000])\n",
    "model_R_MAE = Ridge(best_alpha_MAE).fit(XX_train[0:1000], yy_train[0:1000])\n",
    "model_R_R2 = Ridge(best_alpha_R2).fit(XX_train[0:1000], yy_train[0:1000])\n",
    "\n",
    "yy_pred_rmse = model_R_RMSE.predict(XX_test)\n",
    "yy_pred_mae = model_R_MAE.predict(XX_test)\n",
    "yy_pred_r2 = model_R_R2.predict(XX_test)\n",
    "\n",
    "print(\"RMSE =\", round(rmse(yy_test, yy_pred_rmse), 4))\n",
    "print(\"MAE =\", round(mean_absolute_error(yy_test, yy_pred_mae), 4))\n",
    "print(\"R2 =\", round(r2_score(yy_test, yy_pred_r2), 4))"
   ]
  },
  {
   "cell_type": "markdown",
   "metadata": {
    "collapsed": true
   },
   "source": [
    "__19. (0.5 балла)__ Поиск объектов-выбросов\n",
    "\n",
    "\n",
    "Как известно, MSE сильно штрафует за большие ошибки на объектах-выбросах. С помощью cross_val_predict сделайте Out-of-Fold предсказания для обучающей выборки. Посчитайте ошибки и посмотрите на их распределение (plt.hist). Что вы видите?"
   ]
  },
  {
   "cell_type": "code",
   "execution_count": 46,
   "metadata": {},
   "outputs": [
    {
     "data": {
      "image/png": "[encoded data removed]",
      "text/plain": [
       "<Figure size 432x288 with 1 Axes>"
      ]
     },
     "metadata": {
      "needs_background": "light"
     },
     "output_type": "display_data"
    }
   ],
   "source": [
    "from sklearn.model_selection import cross_val_predict\n",
    "ridge_model = Ridge()\n",
    "\n",
    "y_pred = cross_val_predict(ridge_model, XX_test, yy_test)\n",
    "error = (y_pred - yy_test) ** 2\n",
    "plt.hist(error, bins = 25)\n",
    "plt.yscale(\"log\")\n",
    "plt.title(\"Ошибки\")\n",
    "plt.show()"
   ]
  },
  {
   "cell_type": "code",
   "execution_count": null,
   "metadata": {},
   "outputs": [],
   "source": []
  }
 ],
 "metadata": {
  "kernelspec": {
   "display_name": "Python 3 (ipykernel)",
   "language": "python",
   "name": "python3"
  },
  "language_info": {
   "codemirror_mode": {
    "name": "ipython",
    "version": 3
   },
   "file_extension": ".py",
   "mimetype": "text/x-python",
   "name": "python",
   "nbconvert_exporter": "python",
   "pygments_lexer": "ipython3",
   "version": "3.9.12"
  }
 },
 "nbformat": 4,
 "nbformat_minor": 1
}
